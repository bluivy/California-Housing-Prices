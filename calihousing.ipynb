{
  "nbformat": 4,
  "nbformat_minor": 0,
  "metadata": {
    "colab": {
      "name": "calihousing.ipynb",
      "provenance": [],
      "collapsed_sections": []
    },
    "kernelspec": {
      "name": "python3",
      "display_name": "Python 3"
    }
  },
  "cells": [
    {
      "cell_type": "markdown",
      "metadata": {
        "id": "LsH1kGVO4hy9",
        "colab_type": "text"
      },
      "source": [
        " Predicting California housing prices.\n",
        " \n",
        "\n",
        "\n",
        "\n",
        "\n",
        "\n",
        "\n"
      ]
    },
    {
      "cell_type": "code",
      "metadata": {
        "id": "GZlzHZZiHCpW",
        "colab_type": "code",
        "colab": {}
      },
      "source": [
        "#necessary import stuff\n",
        "import seaborn as sns\n",
        "import pandas as pd\n",
        "import numpy as np\n",
        "import matplotlib.pyplot as plt\n",
        "\n",
        "sns.set_style('whitegrid')\n"
      ],
      "execution_count": 0,
      "outputs": []
    },
    {
      "cell_type": "code",
      "metadata": {
        "id": "mjC1mOlBHr_L",
        "colab_type": "code",
        "colab": {}
      },
      "source": [
        "# to read the csv file\n",
        "df=pd.read_csv('/content/sample_data/california_housing_train.csv')"
      ],
      "execution_count": 0,
      "outputs": []
    },
    {
      "cell_type": "code",
      "metadata": {
        "id": "Vvr4jjkXICPr",
        "colab_type": "code",
        "outputId": "cfa2121e-4978-430f-9e4c-f78de453ce71",
        "colab": {
          "base_uri": "https://localhost:8080/",
          "height": 224
        }
      },
      "source": [
        "# to observe the data\n",
        "df.head()"
      ],
      "execution_count": 0,
      "outputs": [
        {
          "output_type": "execute_result",
          "data": {
            "text/html": [
              "<div>\n",
              "<style scoped>\n",
              "    .dataframe tbody tr th:only-of-type {\n",
              "        vertical-align: middle;\n",
              "    }\n",
              "\n",
              "    .dataframe tbody tr th {\n",
              "        vertical-align: top;\n",
              "    }\n",
              "\n",
              "    .dataframe thead th {\n",
              "        text-align: right;\n",
              "    }\n",
              "</style>\n",
              "<table border=\"1\" class=\"dataframe\">\n",
              "  <thead>\n",
              "    <tr style=\"text-align: right;\">\n",
              "      <th></th>\n",
              "      <th>longitude</th>\n",
              "      <th>latitude</th>\n",
              "      <th>housing_median_age</th>\n",
              "      <th>total_rooms</th>\n",
              "      <th>total_bedrooms</th>\n",
              "      <th>population</th>\n",
              "      <th>households</th>\n",
              "      <th>median_income</th>\n",
              "      <th>median_house_value</th>\n",
              "    </tr>\n",
              "  </thead>\n",
              "  <tbody>\n",
              "    <tr>\n",
              "      <th>0</th>\n",
              "      <td>-114.31</td>\n",
              "      <td>34.19</td>\n",
              "      <td>15.0</td>\n",
              "      <td>5612.0</td>\n",
              "      <td>1283.0</td>\n",
              "      <td>1015.0</td>\n",
              "      <td>472.0</td>\n",
              "      <td>1.4936</td>\n",
              "      <td>66900.0</td>\n",
              "    </tr>\n",
              "    <tr>\n",
              "      <th>1</th>\n",
              "      <td>-114.47</td>\n",
              "      <td>34.40</td>\n",
              "      <td>19.0</td>\n",
              "      <td>7650.0</td>\n",
              "      <td>1901.0</td>\n",
              "      <td>1129.0</td>\n",
              "      <td>463.0</td>\n",
              "      <td>1.8200</td>\n",
              "      <td>80100.0</td>\n",
              "    </tr>\n",
              "    <tr>\n",
              "      <th>2</th>\n",
              "      <td>-114.56</td>\n",
              "      <td>33.69</td>\n",
              "      <td>17.0</td>\n",
              "      <td>720.0</td>\n",
              "      <td>174.0</td>\n",
              "      <td>333.0</td>\n",
              "      <td>117.0</td>\n",
              "      <td>1.6509</td>\n",
              "      <td>85700.0</td>\n",
              "    </tr>\n",
              "    <tr>\n",
              "      <th>3</th>\n",
              "      <td>-114.57</td>\n",
              "      <td>33.64</td>\n",
              "      <td>14.0</td>\n",
              "      <td>1501.0</td>\n",
              "      <td>337.0</td>\n",
              "      <td>515.0</td>\n",
              "      <td>226.0</td>\n",
              "      <td>3.1917</td>\n",
              "      <td>73400.0</td>\n",
              "    </tr>\n",
              "    <tr>\n",
              "      <th>4</th>\n",
              "      <td>-114.57</td>\n",
              "      <td>33.57</td>\n",
              "      <td>20.0</td>\n",
              "      <td>1454.0</td>\n",
              "      <td>326.0</td>\n",
              "      <td>624.0</td>\n",
              "      <td>262.0</td>\n",
              "      <td>1.9250</td>\n",
              "      <td>65500.0</td>\n",
              "    </tr>\n",
              "  </tbody>\n",
              "</table>\n",
              "</div>"
            ],
            "text/plain": [
              "   longitude  latitude  ...  median_income  median_house_value\n",
              "0    -114.31     34.19  ...         1.4936             66900.0\n",
              "1    -114.47     34.40  ...         1.8200             80100.0\n",
              "2    -114.56     33.69  ...         1.6509             85700.0\n",
              "3    -114.57     33.64  ...         3.1917             73400.0\n",
              "4    -114.57     33.57  ...         1.9250             65500.0\n",
              "\n",
              "[5 rows x 9 columns]"
            ]
          },
          "metadata": {
            "tags": []
          },
          "execution_count": 5
        }
      ]
    },
    {
      "cell_type": "code",
      "metadata": {
        "id": "Oczk3DWCIDsm",
        "colab_type": "code",
        "outputId": "f57d3f0a-aff4-440a-b786-3cc78e93ad69",
        "colab": {
          "base_uri": "https://localhost:8080/",
          "height": 187
        }
      },
      "source": [
        "#to check null values\n",
        "df.isnull().sum()"
      ],
      "execution_count": 0,
      "outputs": [
        {
          "output_type": "execute_result",
          "data": {
            "text/plain": [
              "longitude             0\n",
              "latitude              0\n",
              "housing_median_age    0\n",
              "total_rooms           0\n",
              "total_bedrooms        0\n",
              "population            0\n",
              "households            0\n",
              "median_income         0\n",
              "median_house_value    0\n",
              "dtype: int64"
            ]
          },
          "metadata": {
            "tags": []
          },
          "execution_count": 7
        }
      ]
    },
    {
      "cell_type": "code",
      "metadata": {
        "id": "CetE45FIILjb",
        "colab_type": "code",
        "colab": {}
      },
      "source": [
        "''' the aim is to predict the housing value in California'''"
      ],
      "execution_count": 0,
      "outputs": []
    },
    {
      "cell_type": "markdown",
      "metadata": {
        "id": "fsgN5g1xIlpc",
        "colab_type": "text"
      },
      "source": [
        "Exploratory Data Analysis"
      ]
    },
    {
      "cell_type": "code",
      "metadata": {
        "id": "TKHMatW8IJND",
        "colab_type": "code",
        "outputId": "39eafaf3-18b7-499b-e390-390146c097da",
        "colab": {
          "base_uri": "https://localhost:8080/",
          "height": 289
        }
      },
      "source": [
        "df.info()"
      ],
      "execution_count": 0,
      "outputs": [
        {
          "output_type": "stream",
          "text": [
            "<class 'pandas.core.frame.DataFrame'>\n",
            "RangeIndex: 17000 entries, 0 to 16999\n",
            "Data columns (total 9 columns):\n",
            " #   Column              Non-Null Count  Dtype  \n",
            "---  ------              --------------  -----  \n",
            " 0   longitude           17000 non-null  float64\n",
            " 1   latitude            17000 non-null  float64\n",
            " 2   housing_median_age  17000 non-null  float64\n",
            " 3   total_rooms         17000 non-null  float64\n",
            " 4   total_bedrooms      17000 non-null  float64\n",
            " 5   population          17000 non-null  float64\n",
            " 6   households          17000 non-null  float64\n",
            " 7   median_income       17000 non-null  float64\n",
            " 8   median_house_value  17000 non-null  float64\n",
            "dtypes: float64(9)\n",
            "memory usage: 1.2 MB\n"
          ],
          "name": "stdout"
        }
      ]
    },
    {
      "cell_type": "code",
      "metadata": {
        "id": "w1UpTBbpIv1c",
        "colab_type": "code",
        "outputId": "ee468da4-f027-438d-b736-204a830c60de",
        "colab": {
          "base_uri": "https://localhost:8080/",
          "height": 328
        }
      },
      "source": [
        "df.describe().transpose() #to see the count , mean,std,min 25th,75th percentile"
      ],
      "execution_count": 0,
      "outputs": [
        {
          "output_type": "execute_result",
          "data": {
            "text/html": [
              "<div>\n",
              "<style scoped>\n",
              "    .dataframe tbody tr th:only-of-type {\n",
              "        vertical-align: middle;\n",
              "    }\n",
              "\n",
              "    .dataframe tbody tr th {\n",
              "        vertical-align: top;\n",
              "    }\n",
              "\n",
              "    .dataframe thead th {\n",
              "        text-align: right;\n",
              "    }\n",
              "</style>\n",
              "<table border=\"1\" class=\"dataframe\">\n",
              "  <thead>\n",
              "    <tr style=\"text-align: right;\">\n",
              "      <th></th>\n",
              "      <th>count</th>\n",
              "      <th>mean</th>\n",
              "      <th>std</th>\n",
              "      <th>min</th>\n",
              "      <th>25%</th>\n",
              "      <th>50%</th>\n",
              "      <th>75%</th>\n",
              "      <th>max</th>\n",
              "    </tr>\n",
              "  </thead>\n",
              "  <tbody>\n",
              "    <tr>\n",
              "      <th>longitude</th>\n",
              "      <td>17000.0</td>\n",
              "      <td>-119.562108</td>\n",
              "      <td>2.005166</td>\n",
              "      <td>-124.3500</td>\n",
              "      <td>-121.790000</td>\n",
              "      <td>-118.4900</td>\n",
              "      <td>-118.000</td>\n",
              "      <td>-114.3100</td>\n",
              "    </tr>\n",
              "    <tr>\n",
              "      <th>latitude</th>\n",
              "      <td>17000.0</td>\n",
              "      <td>35.625225</td>\n",
              "      <td>2.137340</td>\n",
              "      <td>32.5400</td>\n",
              "      <td>33.930000</td>\n",
              "      <td>34.2500</td>\n",
              "      <td>37.720</td>\n",
              "      <td>41.9500</td>\n",
              "    </tr>\n",
              "    <tr>\n",
              "      <th>housing_median_age</th>\n",
              "      <td>17000.0</td>\n",
              "      <td>28.589353</td>\n",
              "      <td>12.586937</td>\n",
              "      <td>1.0000</td>\n",
              "      <td>18.000000</td>\n",
              "      <td>29.0000</td>\n",
              "      <td>37.000</td>\n",
              "      <td>52.0000</td>\n",
              "    </tr>\n",
              "    <tr>\n",
              "      <th>total_rooms</th>\n",
              "      <td>17000.0</td>\n",
              "      <td>2643.664412</td>\n",
              "      <td>2179.947071</td>\n",
              "      <td>2.0000</td>\n",
              "      <td>1462.000000</td>\n",
              "      <td>2127.0000</td>\n",
              "      <td>3151.250</td>\n",
              "      <td>37937.0000</td>\n",
              "    </tr>\n",
              "    <tr>\n",
              "      <th>total_bedrooms</th>\n",
              "      <td>17000.0</td>\n",
              "      <td>539.410824</td>\n",
              "      <td>421.499452</td>\n",
              "      <td>1.0000</td>\n",
              "      <td>297.000000</td>\n",
              "      <td>434.0000</td>\n",
              "      <td>648.250</td>\n",
              "      <td>6445.0000</td>\n",
              "    </tr>\n",
              "    <tr>\n",
              "      <th>population</th>\n",
              "      <td>17000.0</td>\n",
              "      <td>1429.573941</td>\n",
              "      <td>1147.852959</td>\n",
              "      <td>3.0000</td>\n",
              "      <td>790.000000</td>\n",
              "      <td>1167.0000</td>\n",
              "      <td>1721.000</td>\n",
              "      <td>35682.0000</td>\n",
              "    </tr>\n",
              "    <tr>\n",
              "      <th>households</th>\n",
              "      <td>17000.0</td>\n",
              "      <td>501.221941</td>\n",
              "      <td>384.520841</td>\n",
              "      <td>1.0000</td>\n",
              "      <td>282.000000</td>\n",
              "      <td>409.0000</td>\n",
              "      <td>605.250</td>\n",
              "      <td>6082.0000</td>\n",
              "    </tr>\n",
              "    <tr>\n",
              "      <th>median_income</th>\n",
              "      <td>17000.0</td>\n",
              "      <td>3.883578</td>\n",
              "      <td>1.908157</td>\n",
              "      <td>0.4999</td>\n",
              "      <td>2.566375</td>\n",
              "      <td>3.5446</td>\n",
              "      <td>4.767</td>\n",
              "      <td>15.0001</td>\n",
              "    </tr>\n",
              "    <tr>\n",
              "      <th>median_house_value</th>\n",
              "      <td>17000.0</td>\n",
              "      <td>207300.912353</td>\n",
              "      <td>115983.764387</td>\n",
              "      <td>14999.0000</td>\n",
              "      <td>119400.000000</td>\n",
              "      <td>180400.0000</td>\n",
              "      <td>265000.000</td>\n",
              "      <td>500001.0000</td>\n",
              "    </tr>\n",
              "  </tbody>\n",
              "</table>\n",
              "</div>"
            ],
            "text/plain": [
              "                      count           mean  ...         75%          max\n",
              "longitude           17000.0    -119.562108  ...    -118.000    -114.3100\n",
              "latitude            17000.0      35.625225  ...      37.720      41.9500\n",
              "housing_median_age  17000.0      28.589353  ...      37.000      52.0000\n",
              "total_rooms         17000.0    2643.664412  ...    3151.250   37937.0000\n",
              "total_bedrooms      17000.0     539.410824  ...     648.250    6445.0000\n",
              "population          17000.0    1429.573941  ...    1721.000   35682.0000\n",
              "households          17000.0     501.221941  ...     605.250    6082.0000\n",
              "median_income       17000.0       3.883578  ...       4.767      15.0001\n",
              "median_house_value  17000.0  207300.912353  ...  265000.000  500001.0000\n",
              "\n",
              "[9 rows x 8 columns]"
            ]
          },
          "metadata": {
            "tags": []
          },
          "execution_count": 9
        }
      ]
    },
    {
      "cell_type": "code",
      "metadata": {
        "id": "P7-XdwCeJZo5",
        "colab_type": "code",
        "outputId": "1dd9f85b-f408-4e81-b2c4-9be5eebe47d0",
        "colab": {
          "base_uri": "https://localhost:8080/",
          "height": 247
        }
      },
      "source": [
        "#A distribution plot for the median age of the houses\n",
        "plt.figure(figsize=(20,4))\n",
        "sns.distplot(df['housing_median_age'],kde=False)\n"
      ],
      "execution_count": 0,
      "outputs": [
        {
          "output_type": "execute_result",
          "data": {
            "text/plain": [
              "<matplotlib.axes._subplots.AxesSubplot at 0x7fb4f0643f98>"
            ]
          },
          "metadata": {
            "tags": []
          },
          "execution_count": 116
        },
        {
          "output_type": "display_data",
          "data": {
            "image/png": "[encoded data removed]",
            "text/plain": [
              "<Figure size 1440x288 with 1 Axes>"
            ]
          },
          "metadata": {
            "tags": []
          }
        }
      ]
    },
    {
      "cell_type": "code",
      "metadata": {
        "id": "xDoOzeuFKPyb",
        "colab_type": "code",
        "outputId": "281090f7-c457-43ec-eb18-dbe97ac96849",
        "colab": {
          "base_uri": "https://localhost:8080/",
          "height": 245
        }
      },
      "source": [
        "#A distribution to see the total bedrooms\n",
        "plt.figure(figsize=(20,4))\n",
        "sns.distplot(df['total_bedrooms'])"
      ],
      "execution_count": 0,
      "outputs": [
        {
          "output_type": "execute_result",
          "data": {
            "text/plain": [
              "<matplotlib.axes._subplots.AxesSubplot at 0x7fb4f0703198>"
            ]
          },
          "metadata": {
            "tags": []
          },
          "execution_count": 117
        },
        {
          "output_type": "display_data",
          "data": {
            "image/png": "[encoded data removed]",
            "text/plain": [
              "<Figure size 1440x288 with 1 Axes>"
            ]
          },
          "metadata": {
            "tags": []
          }
        }
      ]
    },
    {
      "cell_type": "code",
      "metadata": {
        "id": "TuwynhPoKX30",
        "colab_type": "code",
        "outputId": "27a82bab-495d-40d9-a293-1d170731263a",
        "colab": {
          "base_uri": "https://localhost:8080/",
          "height": 244
        }
      },
      "source": [
        "#distribution to see the total rooms in the house\n",
        "plt.figure(figsize=(20,4))\n",
        "sns.distplot(df['total_rooms'])"
      ],
      "execution_count": 0,
      "outputs": [
        {
          "output_type": "execute_result",
          "data": {
            "text/plain": [
              "<matplotlib.axes._subplots.AxesSubplot at 0x7fb4f04a4d30>"
            ]
          },
          "metadata": {
            "tags": []
          },
          "execution_count": 118
        },
        {
          "output_type": "display_data",
          "data": {
            "image/png": "[encoded data removed]",
            "text/plain": [
              "<Figure size 1440x288 with 1 Axes>"
            ]
          },
          "metadata": {
            "tags": []
          }
        }
      ]
    },
    {
      "cell_type": "code",
      "metadata": {
        "id": "A2t9l64_K_su",
        "colab_type": "code",
        "outputId": "1487b4f4-a05b-4650-a155-f61a91e77972",
        "colab": {
          "base_uri": "https://localhost:8080/",
          "height": 248
        }
      },
      "source": [
        "#plot for income distribution\n",
        "plt.figure(figsize=(20,4))\n",
        "sns.distplot(df['median_income'])"
      ],
      "execution_count": 0,
      "outputs": [
        {
          "output_type": "execute_result",
          "data": {
            "text/plain": [
              "<matplotlib.axes._subplots.AxesSubplot at 0x7fb4f0374f60>"
            ]
          },
          "metadata": {
            "tags": []
          },
          "execution_count": 119
        },
        {
          "output_type": "display_data",
          "data": {
            "image/png": "[encoded data removed]",
            "text/plain": [
              "<Figure size 1440x288 with 1 Axes>"
            ]
          },
          "metadata": {
            "tags": []
          }
        }
      ]
    },
    {
      "cell_type": "code",
      "metadata": {
        "id": "9m4ODmrXMZUW",
        "colab_type": "code",
        "outputId": "4999047f-ac2e-4c13-940a-5e8ed145b270",
        "colab": {
          "base_uri": "https://localhost:8080/",
          "height": 224
        }
      },
      "source": [
        "''' We will now estimate the areas that have above average housing prices and below average'''\n",
        "def price_estimation(data):\n",
        "  if(data>207300.912353):\n",
        "    return 1\n",
        "  else:\n",
        "    return 0\n",
        "df1=df.copy()\n",
        "df1['above_or_below_avg']=df1['median_house_value'].apply(price_estimation)\n",
        "df1.head()"
      ],
      "execution_count": 0,
      "outputs": [
        {
          "output_type": "execute_result",
          "data": {
            "text/html": [
              "<div>\n",
              "<style scoped>\n",
              "    .dataframe tbody tr th:only-of-type {\n",
              "        vertical-align: middle;\n",
              "    }\n",
              "\n",
              "    .dataframe tbody tr th {\n",
              "        vertical-align: top;\n",
              "    }\n",
              "\n",
              "    .dataframe thead th {\n",
              "        text-align: right;\n",
              "    }\n",
              "</style>\n",
              "<table border=\"1\" class=\"dataframe\">\n",
              "  <thead>\n",
              "    <tr style=\"text-align: right;\">\n",
              "      <th></th>\n",
              "      <th>longitude</th>\n",
              "      <th>latitude</th>\n",
              "      <th>housing_median_age</th>\n",
              "      <th>total_rooms</th>\n",
              "      <th>total_bedrooms</th>\n",
              "      <th>population</th>\n",
              "      <th>households</th>\n",
              "      <th>median_income</th>\n",
              "      <th>median_house_value</th>\n",
              "      <th>above_or_below_avg</th>\n",
              "    </tr>\n",
              "  </thead>\n",
              "  <tbody>\n",
              "    <tr>\n",
              "      <th>0</th>\n",
              "      <td>-114.31</td>\n",
              "      <td>34.19</td>\n",
              "      <td>15.0</td>\n",
              "      <td>5612.0</td>\n",
              "      <td>1283.0</td>\n",
              "      <td>1015.0</td>\n",
              "      <td>472.0</td>\n",
              "      <td>1.4936</td>\n",
              "      <td>66900.0</td>\n",
              "      <td>0</td>\n",
              "    </tr>\n",
              "    <tr>\n",
              "      <th>1</th>\n",
              "      <td>-114.47</td>\n",
              "      <td>34.40</td>\n",
              "      <td>19.0</td>\n",
              "      <td>7650.0</td>\n",
              "      <td>1901.0</td>\n",
              "      <td>1129.0</td>\n",
              "      <td>463.0</td>\n",
              "      <td>1.8200</td>\n",
              "      <td>80100.0</td>\n",
              "      <td>0</td>\n",
              "    </tr>\n",
              "    <tr>\n",
              "      <th>2</th>\n",
              "      <td>-114.56</td>\n",
              "      <td>33.69</td>\n",
              "      <td>17.0</td>\n",
              "      <td>720.0</td>\n",
              "      <td>174.0</td>\n",
              "      <td>333.0</td>\n",
              "      <td>117.0</td>\n",
              "      <td>1.6509</td>\n",
              "      <td>85700.0</td>\n",
              "      <td>0</td>\n",
              "    </tr>\n",
              "    <tr>\n",
              "      <th>3</th>\n",
              "      <td>-114.57</td>\n",
              "      <td>33.64</td>\n",
              "      <td>14.0</td>\n",
              "      <td>1501.0</td>\n",
              "      <td>337.0</td>\n",
              "      <td>515.0</td>\n",
              "      <td>226.0</td>\n",
              "      <td>3.1917</td>\n",
              "      <td>73400.0</td>\n",
              "      <td>0</td>\n",
              "    </tr>\n",
              "    <tr>\n",
              "      <th>4</th>\n",
              "      <td>-114.57</td>\n",
              "      <td>33.57</td>\n",
              "      <td>20.0</td>\n",
              "      <td>1454.0</td>\n",
              "      <td>326.0</td>\n",
              "      <td>624.0</td>\n",
              "      <td>262.0</td>\n",
              "      <td>1.9250</td>\n",
              "      <td>65500.0</td>\n",
              "      <td>0</td>\n",
              "    </tr>\n",
              "  </tbody>\n",
              "</table>\n",
              "</div>"
            ],
            "text/plain": [
              "   longitude  latitude  ...  median_house_value  above_or_below_avg\n",
              "0    -114.31     34.19  ...             66900.0                   0\n",
              "1    -114.47     34.40  ...             80100.0                   0\n",
              "2    -114.56     33.69  ...             85700.0                   0\n",
              "3    -114.57     33.64  ...             73400.0                   0\n",
              "4    -114.57     33.57  ...             65500.0                   0\n",
              "\n",
              "[5 rows x 10 columns]"
            ]
          },
          "metadata": {
            "tags": []
          },
          "execution_count": 33
        }
      ]
    },
    {
      "cell_type": "code",
      "metadata": {
        "id": "3twDnL0DONI4",
        "colab_type": "code",
        "outputId": "95fd8a00-b6fe-4aa6-d28e-f46e4965e317",
        "colab": {
          "base_uri": "https://localhost:8080/",
          "height": 459
        }
      },
      "source": [
        "#we shall now reconstruct the california map with lattitude and longitude given and estimate above and below average housing\n",
        "plt.figure(figsize=(12,7))\n",
        "sns.set_style('white')\n",
        "sns.scatterplot(x='longitude',y='latitude',data=df1,hue='above_or_below_avg',palette='Accent',alpha=0.3)\n"
      ],
      "execution_count": 0,
      "outputs": [
        {
          "output_type": "execute_result",
          "data": {
            "text/plain": [
              "<matplotlib.axes._subplots.AxesSubplot at 0x7fb4f0323978>"
            ]
          },
          "metadata": {
            "tags": []
          },
          "execution_count": 120
        },
        {
          "output_type": "display_data",
          "data": {
            "image/png": "[encoded data removed]",
            "text/plain": [
              "<Figure size 864x504 with 1 Axes>"
            ]
          },
          "metadata": {
            "tags": []
          }
        }
      ]
    },
    {
      "cell_type": "markdown",
      "metadata": {
        "id": "_VxxmLZ6TOCX",
        "colab_type": "text"
      },
      "source": [
        "the bayside properties look expensive hence we can take that properties that are above average are near the bayside. thus we will modify our original dataframe"
      ]
    },
    {
      "cell_type": "code",
      "metadata": {
        "id": "BB9NNo2gRYra",
        "colab_type": "code",
        "colab": {}
      },
      "source": [
        "df['by_the_bay']=df['median_house_value'].apply(price_estimation)"
      ],
      "execution_count": 0,
      "outputs": []
    },
    {
      "cell_type": "code",
      "metadata": {
        "id": "mH1ml5-uTlz_",
        "colab_type": "code",
        "outputId": "fe7bac08-beb8-491a-9704-9832312fa2a9",
        "colab": {
          "base_uri": "https://localhost:8080/",
          "height": 224
        }
      },
      "source": [
        "df.head()"
      ],
      "execution_count": 0,
      "outputs": [
        {
          "output_type": "execute_result",
          "data": {
            "text/html": [
              "<div>\n",
              "<style scoped>\n",
              "    .dataframe tbody tr th:only-of-type {\n",
              "        vertical-align: middle;\n",
              "    }\n",
              "\n",
              "    .dataframe tbody tr th {\n",
              "        vertical-align: top;\n",
              "    }\n",
              "\n",
              "    .dataframe thead th {\n",
              "        text-align: right;\n",
              "    }\n",
              "</style>\n",
              "<table border=\"1\" class=\"dataframe\">\n",
              "  <thead>\n",
              "    <tr style=\"text-align: right;\">\n",
              "      <th></th>\n",
              "      <th>longitude</th>\n",
              "      <th>latitude</th>\n",
              "      <th>housing_median_age</th>\n",
              "      <th>total_rooms</th>\n",
              "      <th>total_bedrooms</th>\n",
              "      <th>population</th>\n",
              "      <th>households</th>\n",
              "      <th>median_income</th>\n",
              "      <th>median_house_value</th>\n",
              "      <th>by_the_bay</th>\n",
              "    </tr>\n",
              "  </thead>\n",
              "  <tbody>\n",
              "    <tr>\n",
              "      <th>0</th>\n",
              "      <td>-114.31</td>\n",
              "      <td>34.19</td>\n",
              "      <td>15.0</td>\n",
              "      <td>5612.0</td>\n",
              "      <td>1283.0</td>\n",
              "      <td>1015.0</td>\n",
              "      <td>472.0</td>\n",
              "      <td>1.4936</td>\n",
              "      <td>66900.0</td>\n",
              "      <td>0</td>\n",
              "    </tr>\n",
              "    <tr>\n",
              "      <th>1</th>\n",
              "      <td>-114.47</td>\n",
              "      <td>34.40</td>\n",
              "      <td>19.0</td>\n",
              "      <td>7650.0</td>\n",
              "      <td>1901.0</td>\n",
              "      <td>1129.0</td>\n",
              "      <td>463.0</td>\n",
              "      <td>1.8200</td>\n",
              "      <td>80100.0</td>\n",
              "      <td>0</td>\n",
              "    </tr>\n",
              "    <tr>\n",
              "      <th>2</th>\n",
              "      <td>-114.56</td>\n",
              "      <td>33.69</td>\n",
              "      <td>17.0</td>\n",
              "      <td>720.0</td>\n",
              "      <td>174.0</td>\n",
              "      <td>333.0</td>\n",
              "      <td>117.0</td>\n",
              "      <td>1.6509</td>\n",
              "      <td>85700.0</td>\n",
              "      <td>0</td>\n",
              "    </tr>\n",
              "    <tr>\n",
              "      <th>3</th>\n",
              "      <td>-114.57</td>\n",
              "      <td>33.64</td>\n",
              "      <td>14.0</td>\n",
              "      <td>1501.0</td>\n",
              "      <td>337.0</td>\n",
              "      <td>515.0</td>\n",
              "      <td>226.0</td>\n",
              "      <td>3.1917</td>\n",
              "      <td>73400.0</td>\n",
              "      <td>0</td>\n",
              "    </tr>\n",
              "    <tr>\n",
              "      <th>4</th>\n",
              "      <td>-114.57</td>\n",
              "      <td>33.57</td>\n",
              "      <td>20.0</td>\n",
              "      <td>1454.0</td>\n",
              "      <td>326.0</td>\n",
              "      <td>624.0</td>\n",
              "      <td>262.0</td>\n",
              "      <td>1.9250</td>\n",
              "      <td>65500.0</td>\n",
              "      <td>0</td>\n",
              "    </tr>\n",
              "  </tbody>\n",
              "</table>\n",
              "</div>"
            ],
            "text/plain": [
              "   longitude  latitude  ...  median_house_value  by_the_bay\n",
              "0    -114.31     34.19  ...             66900.0           0\n",
              "1    -114.47     34.40  ...             80100.0           0\n",
              "2    -114.56     33.69  ...             85700.0           0\n",
              "3    -114.57     33.64  ...             73400.0           0\n",
              "4    -114.57     33.57  ...             65500.0           0\n",
              "\n",
              "[5 rows x 10 columns]"
            ]
          },
          "metadata": {
            "tags": []
          },
          "execution_count": 48
        }
      ]
    },
    {
      "cell_type": "code",
      "metadata": {
        "id": "PGoAeTwRTsQL",
        "colab_type": "code",
        "outputId": "81df35c8-453d-443a-d61b-38a658cb7cfd",
        "colab": {
          "base_uri": "https://localhost:8080/",
          "height": 379
        }
      },
      "source": [
        "df.corr() #Check corelation"
      ],
      "execution_count": 0,
      "outputs": [
        {
          "output_type": "execute_result",
          "data": {
            "text/html": [
              "<div>\n",
              "<style scoped>\n",
              "    .dataframe tbody tr th:only-of-type {\n",
              "        vertical-align: middle;\n",
              "    }\n",
              "\n",
              "    .dataframe tbody tr th {\n",
              "        vertical-align: top;\n",
              "    }\n",
              "\n",
              "    .dataframe thead th {\n",
              "        text-align: right;\n",
              "    }\n",
              "</style>\n",
              "<table border=\"1\" class=\"dataframe\">\n",
              "  <thead>\n",
              "    <tr style=\"text-align: right;\">\n",
              "      <th></th>\n",
              "      <th>longitude</th>\n",
              "      <th>latitude</th>\n",
              "      <th>housing_median_age</th>\n",
              "      <th>total_rooms</th>\n",
              "      <th>total_bedrooms</th>\n",
              "      <th>population</th>\n",
              "      <th>households</th>\n",
              "      <th>median_income</th>\n",
              "      <th>median_house_value</th>\n",
              "      <th>by_the_bay</th>\n",
              "    </tr>\n",
              "  </thead>\n",
              "  <tbody>\n",
              "    <tr>\n",
              "      <th>longitude</th>\n",
              "      <td>1.000000</td>\n",
              "      <td>-0.925208</td>\n",
              "      <td>-0.114250</td>\n",
              "      <td>0.047010</td>\n",
              "      <td>0.071802</td>\n",
              "      <td>0.101674</td>\n",
              "      <td>0.059628</td>\n",
              "      <td>-0.015485</td>\n",
              "      <td>-0.044982</td>\n",
              "      <td>-0.069754</td>\n",
              "    </tr>\n",
              "    <tr>\n",
              "      <th>latitude</th>\n",
              "      <td>-0.925208</td>\n",
              "      <td>1.000000</td>\n",
              "      <td>0.016454</td>\n",
              "      <td>-0.038773</td>\n",
              "      <td>-0.069373</td>\n",
              "      <td>-0.111261</td>\n",
              "      <td>-0.074902</td>\n",
              "      <td>-0.080303</td>\n",
              "      <td>-0.144917</td>\n",
              "      <td>-0.101436</td>\n",
              "    </tr>\n",
              "    <tr>\n",
              "      <th>housing_median_age</th>\n",
              "      <td>-0.114250</td>\n",
              "      <td>0.016454</td>\n",
              "      <td>1.000000</td>\n",
              "      <td>-0.360984</td>\n",
              "      <td>-0.320434</td>\n",
              "      <td>-0.295890</td>\n",
              "      <td>-0.302754</td>\n",
              "      <td>-0.115932</td>\n",
              "      <td>0.106758</td>\n",
              "      <td>0.082110</td>\n",
              "    </tr>\n",
              "    <tr>\n",
              "      <th>total_rooms</th>\n",
              "      <td>0.047010</td>\n",
              "      <td>-0.038773</td>\n",
              "      <td>-0.360984</td>\n",
              "      <td>1.000000</td>\n",
              "      <td>0.928403</td>\n",
              "      <td>0.860170</td>\n",
              "      <td>0.919018</td>\n",
              "      <td>0.195383</td>\n",
              "      <td>0.130991</td>\n",
              "      <td>0.128323</td>\n",
              "    </tr>\n",
              "    <tr>\n",
              "      <th>total_bedrooms</th>\n",
              "      <td>0.071802</td>\n",
              "      <td>-0.069373</td>\n",
              "      <td>-0.320434</td>\n",
              "      <td>0.928403</td>\n",
              "      <td>1.000000</td>\n",
              "      <td>0.881169</td>\n",
              "      <td>0.980920</td>\n",
              "      <td>-0.013495</td>\n",
              "      <td>0.045783</td>\n",
              "      <td>0.057256</td>\n",
              "    </tr>\n",
              "    <tr>\n",
              "      <th>population</th>\n",
              "      <td>0.101674</td>\n",
              "      <td>-0.111261</td>\n",
              "      <td>-0.295890</td>\n",
              "      <td>0.860170</td>\n",
              "      <td>0.881169</td>\n",
              "      <td>1.000000</td>\n",
              "      <td>0.909247</td>\n",
              "      <td>-0.000638</td>\n",
              "      <td>-0.027850</td>\n",
              "      <td>-0.015278</td>\n",
              "    </tr>\n",
              "    <tr>\n",
              "      <th>households</th>\n",
              "      <td>0.059628</td>\n",
              "      <td>-0.074902</td>\n",
              "      <td>-0.302754</td>\n",
              "      <td>0.919018</td>\n",
              "      <td>0.980920</td>\n",
              "      <td>0.909247</td>\n",
              "      <td>1.000000</td>\n",
              "      <td>0.007644</td>\n",
              "      <td>0.061031</td>\n",
              "      <td>0.073766</td>\n",
              "    </tr>\n",
              "    <tr>\n",
              "      <th>median_income</th>\n",
              "      <td>-0.015485</td>\n",
              "      <td>-0.080303</td>\n",
              "      <td>-0.115932</td>\n",
              "      <td>0.195383</td>\n",
              "      <td>-0.013495</td>\n",
              "      <td>-0.000638</td>\n",
              "      <td>0.007644</td>\n",
              "      <td>1.000000</td>\n",
              "      <td>0.691871</td>\n",
              "      <td>0.542970</td>\n",
              "    </tr>\n",
              "    <tr>\n",
              "      <th>median_house_value</th>\n",
              "      <td>-0.044982</td>\n",
              "      <td>-0.144917</td>\n",
              "      <td>0.106758</td>\n",
              "      <td>0.130991</td>\n",
              "      <td>0.045783</td>\n",
              "      <td>-0.027850</td>\n",
              "      <td>0.061031</td>\n",
              "      <td>0.691871</td>\n",
              "      <td>1.000000</td>\n",
              "      <td>0.804731</td>\n",
              "    </tr>\n",
              "    <tr>\n",
              "      <th>by_the_bay</th>\n",
              "      <td>-0.069754</td>\n",
              "      <td>-0.101436</td>\n",
              "      <td>0.082110</td>\n",
              "      <td>0.128323</td>\n",
              "      <td>0.057256</td>\n",
              "      <td>-0.015278</td>\n",
              "      <td>0.073766</td>\n",
              "      <td>0.542970</td>\n",
              "      <td>0.804731</td>\n",
              "      <td>1.000000</td>\n",
              "    </tr>\n",
              "  </tbody>\n",
              "</table>\n",
              "</div>"
            ],
            "text/plain": [
              "                    longitude  latitude  ...  median_house_value  by_the_bay\n",
              "longitude            1.000000 -0.925208  ...           -0.044982   -0.069754\n",
              "latitude            -0.925208  1.000000  ...           -0.144917   -0.101436\n",
              "housing_median_age  -0.114250  0.016454  ...            0.106758    0.082110\n",
              "total_rooms          0.047010 -0.038773  ...            0.130991    0.128323\n",
              "total_bedrooms       0.071802 -0.069373  ...            0.045783    0.057256\n",
              "population           0.101674 -0.111261  ...           -0.027850   -0.015278\n",
              "households           0.059628 -0.074902  ...            0.061031    0.073766\n",
              "median_income       -0.015485 -0.080303  ...            0.691871    0.542970\n",
              "median_house_value  -0.044982 -0.144917  ...            1.000000    0.804731\n",
              "by_the_bay          -0.069754 -0.101436  ...            0.804731    1.000000\n",
              "\n",
              "[10 rows x 10 columns]"
            ]
          },
          "metadata": {
            "tags": []
          },
          "execution_count": 52
        }
      ]
    },
    {
      "cell_type": "code",
      "metadata": {
        "id": "GKB6PGexUoKh",
        "colab_type": "code",
        "outputId": "63815c73-e48d-4688-981e-14b3ca3632ca",
        "colab": {
          "base_uri": "https://localhost:8080/",
          "height": 382
        }
      },
      "source": [
        "sns.heatmap(df.corr())"
      ],
      "execution_count": 0,
      "outputs": [
        {
          "output_type": "execute_result",
          "data": {
            "text/plain": [
              "<matplotlib.axes._subplots.AxesSubplot at 0x7fb57a00f518>"
            ]
          },
          "metadata": {
            "tags": []
          },
          "execution_count": 53
        },
        {
          "output_type": "display_data",
          "data": {
            "image/png": "[encoded data removed]",
            "text/plain": [
              "<Figure size 432x288 with 2 Axes>"
            ]
          },
          "metadata": {
            "tags": []
          }
        }
      ]
    },
    {
      "cell_type": "code",
      "metadata": {
        "id": "Ia-tfNnfWAjM",
        "colab_type": "code",
        "outputId": "520cc9bf-ab26-4701-8560-dfa3fb78206f",
        "colab": {
          "base_uri": "https://localhost:8080/",
          "height": 224
        }
      },
      "source": [
        "df.head()"
      ],
      "execution_count": 0,
      "outputs": [
        {
          "output_type": "execute_result",
          "data": {
            "text/html": [
              "<div>\n",
              "<style scoped>\n",
              "    .dataframe tbody tr th:only-of-type {\n",
              "        vertical-align: middle;\n",
              "    }\n",
              "\n",
              "    .dataframe tbody tr th {\n",
              "        vertical-align: top;\n",
              "    }\n",
              "\n",
              "    .dataframe thead th {\n",
              "        text-align: right;\n",
              "    }\n",
              "</style>\n",
              "<table border=\"1\" class=\"dataframe\">\n",
              "  <thead>\n",
              "    <tr style=\"text-align: right;\">\n",
              "      <th></th>\n",
              "      <th>longitude</th>\n",
              "      <th>latitude</th>\n",
              "      <th>housing_median_age</th>\n",
              "      <th>total_rooms</th>\n",
              "      <th>total_bedrooms</th>\n",
              "      <th>population</th>\n",
              "      <th>households</th>\n",
              "      <th>median_income</th>\n",
              "      <th>median_house_value</th>\n",
              "      <th>by_the_bay</th>\n",
              "    </tr>\n",
              "  </thead>\n",
              "  <tbody>\n",
              "    <tr>\n",
              "      <th>0</th>\n",
              "      <td>-114.31</td>\n",
              "      <td>34.19</td>\n",
              "      <td>15.0</td>\n",
              "      <td>5612.0</td>\n",
              "      <td>1283.0</td>\n",
              "      <td>1015.0</td>\n",
              "      <td>472.0</td>\n",
              "      <td>1.4936</td>\n",
              "      <td>66900.0</td>\n",
              "      <td>0</td>\n",
              "    </tr>\n",
              "    <tr>\n",
              "      <th>1</th>\n",
              "      <td>-114.47</td>\n",
              "      <td>34.40</td>\n",
              "      <td>19.0</td>\n",
              "      <td>7650.0</td>\n",
              "      <td>1901.0</td>\n",
              "      <td>1129.0</td>\n",
              "      <td>463.0</td>\n",
              "      <td>1.8200</td>\n",
              "      <td>80100.0</td>\n",
              "      <td>0</td>\n",
              "    </tr>\n",
              "    <tr>\n",
              "      <th>2</th>\n",
              "      <td>-114.56</td>\n",
              "      <td>33.69</td>\n",
              "      <td>17.0</td>\n",
              "      <td>720.0</td>\n",
              "      <td>174.0</td>\n",
              "      <td>333.0</td>\n",
              "      <td>117.0</td>\n",
              "      <td>1.6509</td>\n",
              "      <td>85700.0</td>\n",
              "      <td>0</td>\n",
              "    </tr>\n",
              "    <tr>\n",
              "      <th>3</th>\n",
              "      <td>-114.57</td>\n",
              "      <td>33.64</td>\n",
              "      <td>14.0</td>\n",
              "      <td>1501.0</td>\n",
              "      <td>337.0</td>\n",
              "      <td>515.0</td>\n",
              "      <td>226.0</td>\n",
              "      <td>3.1917</td>\n",
              "      <td>73400.0</td>\n",
              "      <td>0</td>\n",
              "    </tr>\n",
              "    <tr>\n",
              "      <th>4</th>\n",
              "      <td>-114.57</td>\n",
              "      <td>33.57</td>\n",
              "      <td>20.0</td>\n",
              "      <td>1454.0</td>\n",
              "      <td>326.0</td>\n",
              "      <td>624.0</td>\n",
              "      <td>262.0</td>\n",
              "      <td>1.9250</td>\n",
              "      <td>65500.0</td>\n",
              "      <td>0</td>\n",
              "    </tr>\n",
              "  </tbody>\n",
              "</table>\n",
              "</div>"
            ],
            "text/plain": [
              "   longitude  latitude  ...  median_house_value  by_the_bay\n",
              "0    -114.31     34.19  ...             66900.0           0\n",
              "1    -114.47     34.40  ...             80100.0           0\n",
              "2    -114.56     33.69  ...             85700.0           0\n",
              "3    -114.57     33.64  ...             73400.0           0\n",
              "4    -114.57     33.57  ...             65500.0           0\n",
              "\n",
              "[5 rows x 10 columns]"
            ]
          },
          "metadata": {
            "tags": []
          },
          "execution_count": 61
        }
      ]
    },
    {
      "cell_type": "code",
      "metadata": {
        "id": "KjMGYcsOYwqb",
        "colab_type": "code",
        "colab": {}
      },
      "source": [
        "X=df.drop('median_house_value',axis=1).values\n",
        "y=df['median_house_value'].values #x,y"
      ],
      "execution_count": 0,
      "outputs": []
    },
    {
      "cell_type": "code",
      "metadata": {
        "id": "Zu6_KldDZB_J",
        "colab_type": "code",
        "colab": {}
      },
      "source": [
        "from sklearn.model_selection import train_test_split\n",
        "X_train, X_test, y_train, y_test = train_test_split(X,y,test_size=0.3,random_state=101) #splitting data"
      ],
      "execution_count": 0,
      "outputs": []
    },
    {
      "cell_type": "code",
      "metadata": {
        "id": "O7Y9GFN0ZNLp",
        "colab_type": "code",
        "colab": {}
      },
      "source": [
        "from sklearn.preprocessing import MinMaxScaler\n",
        "scaler=MinMaxScaler() #scaling"
      ],
      "execution_count": 0,
      "outputs": []
    },
    {
      "cell_type": "code",
      "metadata": {
        "id": "4J0gH13cZXqd",
        "colab_type": "code",
        "colab": {}
      },
      "source": [
        "X_train=scaler.fit_transform(X_train)\n",
        "X_test=scaler.fit_transform(X_test) #scaling for train and test for X"
      ],
      "execution_count": 0,
      "outputs": []
    },
    {
      "cell_type": "code",
      "metadata": {
        "id": "QLr1DetkaBlU",
        "colab_type": "code",
        "colab": {}
      },
      "source": [
        "from tensorflow.keras.models import Sequential\n",
        "from tensorflow.keras.layers import Dense, Activation\n",
        "from tensorflow.keras.optimizers import Adam"
      ],
      "execution_count": 0,
      "outputs": []
    },
    {
      "cell_type": "code",
      "metadata": {
        "id": "GbYbES_eaLhE",
        "colab_type": "code",
        "colab": {}
      },
      "source": [
        "model=Sequential()"
      ],
      "execution_count": 0,
      "outputs": []
    },
    {
      "cell_type": "code",
      "metadata": {
        "id": "LMp5XMchaPzg",
        "colab_type": "code",
        "colab": {}
      },
      "source": [
        "model.add(Dense(19,activation='relu'))\n",
        "model.add(Dense(19,activation='relu'))\n",
        "model.add(Dense(19,activation='relu'))\n",
        "model.add(Dense(1)) #adding layers\n",
        "model.compile(optimizer='adam',loss='mse')"
      ],
      "execution_count": 0,
      "outputs": []
    },
    {
      "cell_type": "code",
      "metadata": {
        "id": "hjVWv4Mtasaj",
        "colab_type": "code",
        "outputId": "1265b1a5-1dbb-43af-cb6c-3fdea2f16120",
        "colab": {
          "base_uri": "https://localhost:8080/",
          "height": 1000
        }
      },
      "source": [
        "model.fit(x=X_train,y=y_train,\n",
        "          validation_data=(X_test,y_test),\n",
        "          batch_size=128,epochs=400) #fitting the param in the model and traininng"
      ],
      "execution_count": 0,
      "outputs": [
        {
          "output_type": "stream",
          "text": [
            "Epoch 1/400\n",
            "93/93 [==============================] - 0s 4ms/step - loss: 56205115392.0000 - val_loss: 56960790528.0000\n",
            "Epoch 2/400\n",
            "93/93 [==============================] - 0s 2ms/step - loss: 56204513280.0000 - val_loss: 56937340928.0000\n",
            "Epoch 3/400\n",
            "93/93 [==============================] - 0s 2ms/step - loss: 56126943232.0000 - val_loss: 56782401536.0000\n",
            "Epoch 4/400\n",
            "93/93 [==============================] - 0s 2ms/step - loss: 55833522176.0000 - val_loss: 56281825280.0000\n",
            "Epoch 5/400\n",
            "93/93 [==============================] - 0s 2ms/step - loss: 55053008896.0000 - val_loss: 55122251776.0000\n",
            "Epoch 6/400\n",
            "93/93 [==============================] - 0s 2ms/step - loss: 53481107456.0000 - val_loss: 52980568064.0000\n",
            "Epoch 7/400\n",
            "93/93 [==============================] - 0s 2ms/step - loss: 50799984640.0000 - val_loss: 49567977472.0000\n",
            "Epoch 8/400\n",
            "93/93 [==============================] - 0s 2ms/step - loss: 46808207360.0000 - val_loss: 44751544320.0000\n",
            "Epoch 9/400\n",
            "93/93 [==============================] - 0s 2ms/step - loss: 41468502016.0000 - val_loss: 38634901504.0000\n",
            "Epoch 10/400\n",
            "93/93 [==============================] - 0s 2ms/step - loss: 35018944512.0000 - val_loss: 31645079552.0000\n",
            "Epoch 11/400\n",
            "93/93 [==============================] - 0s 2ms/step - loss: 28017166336.0000 - val_loss: 24473317376.0000\n",
            "Epoch 12/400\n",
            "93/93 [==============================] - 0s 2ms/step - loss: 21265870848.0000 - val_loss: 18097584128.0000\n",
            "Epoch 13/400\n",
            "93/93 [==============================] - 0s 2ms/step - loss: 15621200896.0000 - val_loss: 13173848064.0000\n",
            "Epoch 14/400\n",
            "93/93 [==============================] - 0s 2ms/step - loss: 11596802048.0000 - val_loss: 10110108672.0000\n",
            "Epoch 15/400\n",
            "93/93 [==============================] - 0s 2ms/step - loss: 9230299136.0000 - val_loss: 8506841600.0000\n",
            "Epoch 16/400\n",
            "93/93 [==============================] - 0s 2ms/step - loss: 8065309696.0000 - val_loss: 7811484672.0000\n",
            "Epoch 17/400\n",
            "93/93 [==============================] - 0s 2ms/step - loss: 7534617088.0000 - val_loss: 7484480000.0000\n",
            "Epoch 18/400\n",
            "93/93 [==============================] - 0s 2ms/step - loss: 7247565824.0000 - val_loss: 7276571136.0000\n",
            "Epoch 19/400\n",
            "93/93 [==============================] - 0s 2ms/step - loss: 7035850752.0000 - val_loss: 7086027776.0000\n",
            "Epoch 20/400\n",
            "93/93 [==============================] - 0s 2ms/step - loss: 6845182976.0000 - val_loss: 6899330048.0000\n",
            "Epoch 21/400\n",
            "93/93 [==============================] - 0s 2ms/step - loss: 6660857856.0000 - val_loss: 6708653568.0000\n",
            "Epoch 22/400\n",
            "93/93 [==============================] - 0s 2ms/step - loss: 6476701696.0000 - val_loss: 6518515200.0000\n",
            "Epoch 23/400\n",
            "93/93 [==============================] - 0s 2ms/step - loss: 6294965248.0000 - val_loss: 6331019776.0000\n",
            "Epoch 24/400\n",
            "93/93 [==============================] - 0s 2ms/step - loss: 6114663936.0000 - val_loss: 6143094272.0000\n",
            "Epoch 25/400\n",
            "93/93 [==============================] - 0s 2ms/step - loss: 5935827968.0000 - val_loss: 5957471744.0000\n",
            "Epoch 26/400\n",
            "93/93 [==============================] - 0s 2ms/step - loss: 5760156672.0000 - val_loss: 5774806016.0000\n",
            "Epoch 27/400\n",
            "93/93 [==============================] - 0s 2ms/step - loss: 5586850816.0000 - val_loss: 5595111424.0000\n",
            "Epoch 28/400\n",
            "93/93 [==============================] - 0s 2ms/step - loss: 5417933824.0000 - val_loss: 5421072896.0000\n",
            "Epoch 29/400\n",
            "93/93 [==============================] - 0s 2ms/step - loss: 5254320128.0000 - val_loss: 5251924992.0000\n",
            "Epoch 30/400\n",
            "93/93 [==============================] - 0s 2ms/step - loss: 5096391680.0000 - val_loss: 5085960192.0000\n",
            "Epoch 31/400\n",
            "93/93 [==============================] - 0s 2ms/step - loss: 4944843264.0000 - val_loss: 4931577344.0000\n",
            "Epoch 32/400\n",
            "93/93 [==============================] - 0s 2ms/step - loss: 4802584576.0000 - val_loss: 4781164032.0000\n",
            "Epoch 33/400\n",
            "93/93 [==============================] - 0s 2ms/step - loss: 4667286528.0000 - val_loss: 4643814400.0000\n",
            "Epoch 34/400\n",
            "93/93 [==============================] - 0s 2ms/step - loss: 4542180864.0000 - val_loss: 4513348608.0000\n",
            "Epoch 35/400\n",
            "93/93 [==============================] - 0s 2ms/step - loss: 4427607040.0000 - val_loss: 4395455488.0000\n",
            "Epoch 36/400\n",
            "93/93 [==============================] - 0s 2ms/step - loss: 4322658816.0000 - val_loss: 4287616512.0000\n",
            "Epoch 37/400\n",
            "93/93 [==============================] - 0s 2ms/step - loss: 4228274944.0000 - val_loss: 4191808256.0000\n",
            "Epoch 38/400\n",
            "93/93 [==============================] - 0s 2ms/step - loss: 4144624896.0000 - val_loss: 4106910976.0000\n",
            "Epoch 39/400\n",
            "93/93 [==============================] - 0s 2ms/step - loss: 4071760384.0000 - val_loss: 4032290816.0000\n",
            "Epoch 40/400\n",
            "93/93 [==============================] - 0s 2ms/step - loss: 4008224768.0000 - val_loss: 3966986240.0000\n",
            "Epoch 41/400\n",
            "93/93 [==============================] - 0s 2ms/step - loss: 3954636288.0000 - val_loss: 3911154944.0000\n",
            "Epoch 42/400\n",
            "93/93 [==============================] - 0s 2ms/step - loss: 3909610752.0000 - val_loss: 3864236544.0000\n",
            "Epoch 43/400\n",
            "93/93 [==============================] - 0s 2ms/step - loss: 3870911232.0000 - val_loss: 3825390336.0000\n",
            "Epoch 44/400\n",
            "93/93 [==============================] - 0s 2ms/step - loss: 3838666496.0000 - val_loss: 3792116224.0000\n",
            "Epoch 45/400\n",
            "93/93 [==============================] - 0s 2ms/step - loss: 3812879104.0000 - val_loss: 3764019968.0000\n",
            "Epoch 46/400\n",
            "93/93 [==============================] - 0s 2ms/step - loss: 3790594048.0000 - val_loss: 3740748288.0000\n",
            "Epoch 47/400\n",
            "93/93 [==============================] - 0s 2ms/step - loss: 3771249664.0000 - val_loss: 3719351040.0000\n",
            "Epoch 48/400\n",
            "93/93 [==============================] - 0s 2ms/step - loss: 3754502400.0000 - val_loss: 3700828672.0000\n",
            "Epoch 49/400\n",
            "93/93 [==============================] - 0s 2ms/step - loss: 3739741696.0000 - val_loss: 3684945152.0000\n",
            "Epoch 50/400\n",
            "93/93 [==============================] - 0s 2ms/step - loss: 3726361344.0000 - val_loss: 3669692416.0000\n",
            "Epoch 51/400\n",
            "93/93 [==============================] - 0s 2ms/step - loss: 3712937216.0000 - val_loss: 3655503872.0000\n",
            "Epoch 52/400\n",
            "93/93 [==============================] - 0s 2ms/step - loss: 3701999616.0000 - val_loss: 3641923072.0000\n",
            "Epoch 53/400\n",
            "93/93 [==============================] - 0s 2ms/step - loss: 3690994176.0000 - val_loss: 3628986880.0000\n",
            "Epoch 54/400\n",
            "93/93 [==============================] - 0s 2ms/step - loss: 3679104768.0000 - val_loss: 3615909120.0000\n",
            "Epoch 55/400\n",
            "93/93 [==============================] - 0s 2ms/step - loss: 3667852288.0000 - val_loss: 3605280000.0000\n",
            "Epoch 56/400\n",
            "93/93 [==============================] - 0s 2ms/step - loss: 3658700032.0000 - val_loss: 3593135360.0000\n",
            "Epoch 57/400\n",
            "93/93 [==============================] - 0s 2ms/step - loss: 3647047168.0000 - val_loss: 3580393472.0000\n",
            "Epoch 58/400\n",
            "93/93 [==============================] - 0s 2ms/step - loss: 3636355072.0000 - val_loss: 3567402240.0000\n",
            "Epoch 59/400\n",
            "93/93 [==============================] - 0s 2ms/step - loss: 3627282944.0000 - val_loss: 3556346368.0000\n",
            "Epoch 60/400\n",
            "93/93 [==============================] - 0s 2ms/step - loss: 3616199424.0000 - val_loss: 3546806272.0000\n",
            "Epoch 61/400\n",
            "93/93 [==============================] - 0s 2ms/step - loss: 3607322368.0000 - val_loss: 3533721088.0000\n",
            "Epoch 62/400\n",
            "93/93 [==============================] - 0s 2ms/step - loss: 3598083840.0000 - val_loss: 3521803008.0000\n",
            "Epoch 63/400\n",
            "93/93 [==============================] - 0s 2ms/step - loss: 3586926336.0000 - val_loss: 3510653440.0000\n",
            "Epoch 64/400\n",
            "93/93 [==============================] - 0s 2ms/step - loss: 3578246144.0000 - val_loss: 3500562944.0000\n",
            "Epoch 65/400\n",
            "93/93 [==============================] - 0s 2ms/step - loss: 3567768832.0000 - val_loss: 3489465088.0000\n",
            "Epoch 66/400\n",
            "93/93 [==============================] - 0s 2ms/step - loss: 3559116800.0000 - val_loss: 3480786432.0000\n",
            "Epoch 67/400\n",
            "93/93 [==============================] - 0s 2ms/step - loss: 3549377536.0000 - val_loss: 3469032192.0000\n",
            "Epoch 68/400\n",
            "93/93 [==============================] - 0s 2ms/step - loss: 3540406272.0000 - val_loss: 3460388096.0000\n",
            "Epoch 69/400\n",
            "93/93 [==============================] - 0s 2ms/step - loss: 3531295232.0000 - val_loss: 3450956544.0000\n",
            "Epoch 70/400\n",
            "93/93 [==============================] - 0s 2ms/step - loss: 3522233856.0000 - val_loss: 3437151744.0000\n",
            "Epoch 71/400\n",
            "93/93 [==============================] - 0s 2ms/step - loss: 3515127296.0000 - val_loss: 3430550272.0000\n",
            "Epoch 72/400\n",
            "93/93 [==============================] - 0s 2ms/step - loss: 3505579520.0000 - val_loss: 3419072000.0000\n",
            "Epoch 73/400\n",
            "93/93 [==============================] - 0s 2ms/step - loss: 3497137664.0000 - val_loss: 3412328448.0000\n",
            "Epoch 74/400\n",
            "93/93 [==============================] - 0s 2ms/step - loss: 3489630720.0000 - val_loss: 3401521920.0000\n",
            "Epoch 75/400\n",
            "93/93 [==============================] - 0s 2ms/step - loss: 3480959488.0000 - val_loss: 3390470656.0000\n",
            "Epoch 76/400\n",
            "93/93 [==============================] - 0s 2ms/step - loss: 3473836544.0000 - val_loss: 3388412416.0000\n",
            "Epoch 77/400\n",
            "93/93 [==============================] - 0s 2ms/step - loss: 3466389248.0000 - val_loss: 3373865984.0000\n",
            "Epoch 78/400\n",
            "93/93 [==============================] - 0s 2ms/step - loss: 3458757632.0000 - val_loss: 3370738432.0000\n",
            "Epoch 79/400\n",
            "93/93 [==============================] - 0s 2ms/step - loss: 3451509504.0000 - val_loss: 3363446784.0000\n",
            "Epoch 80/400\n",
            "93/93 [==============================] - 0s 2ms/step - loss: 3444418816.0000 - val_loss: 3347590656.0000\n",
            "Epoch 81/400\n",
            "93/93 [==============================] - 0s 2ms/step - loss: 3436776448.0000 - val_loss: 3348818432.0000\n",
            "Epoch 82/400\n",
            "93/93 [==============================] - 0s 2ms/step - loss: 3431372544.0000 - val_loss: 3338404352.0000\n",
            "Epoch 83/400\n",
            "93/93 [==============================] - 0s 2ms/step - loss: 3423706368.0000 - val_loss: 3325127936.0000\n",
            "Epoch 84/400\n",
            "93/93 [==============================] - 0s 2ms/step - loss: 3419277312.0000 - val_loss: 3321783552.0000\n",
            "Epoch 85/400\n",
            "93/93 [==============================] - 0s 2ms/step - loss: 3412381184.0000 - val_loss: 3317787136.0000\n",
            "Epoch 86/400\n",
            "93/93 [==============================] - 0s 2ms/step - loss: 3405394944.0000 - val_loss: 3313172480.0000\n",
            "Epoch 87/400\n",
            "93/93 [==============================] - 0s 2ms/step - loss: 3400725760.0000 - val_loss: 3299936000.0000\n",
            "Epoch 88/400\n",
            "93/93 [==============================] - 0s 2ms/step - loss: 3395962112.0000 - val_loss: 3301297920.0000\n",
            "Epoch 89/400\n",
            "93/93 [==============================] - 0s 2ms/step - loss: 3389123072.0000 - val_loss: 3296105472.0000\n",
            "Epoch 90/400\n",
            "93/93 [==============================] - 0s 2ms/step - loss: 3384651008.0000 - val_loss: 3279655424.0000\n",
            "Epoch 91/400\n",
            "93/93 [==============================] - 0s 2ms/step - loss: 3379475968.0000 - val_loss: 3279624704.0000\n",
            "Epoch 92/400\n",
            "93/93 [==============================] - 0s 2ms/step - loss: 3374621952.0000 - val_loss: 3269860864.0000\n",
            "Epoch 93/400\n",
            "93/93 [==============================] - 0s 2ms/step - loss: 3369773312.0000 - val_loss: 3262896384.0000\n",
            "Epoch 94/400\n",
            "93/93 [==============================] - 0s 2ms/step - loss: 3367270400.0000 - val_loss: 3266482176.0000\n",
            "Epoch 95/400\n",
            "93/93 [==============================] - 0s 2ms/step - loss: 3360136448.0000 - val_loss: 3258900224.0000\n",
            "Epoch 96/400\n",
            "93/93 [==============================] - 0s 2ms/step - loss: 3355987456.0000 - val_loss: 3254595072.0000\n",
            "Epoch 97/400\n",
            "93/93 [==============================] - 0s 2ms/step - loss: 3352064512.0000 - val_loss: 3244463872.0000\n",
            "Epoch 98/400\n",
            "93/93 [==============================] - 0s 2ms/step - loss: 3347675648.0000 - val_loss: 3238680576.0000\n",
            "Epoch 99/400\n",
            "93/93 [==============================] - 0s 2ms/step - loss: 3344463104.0000 - val_loss: 3238006272.0000\n",
            "Epoch 100/400\n",
            "93/93 [==============================] - 0s 2ms/step - loss: 3339310848.0000 - val_loss: 3231394304.0000\n",
            "Epoch 101/400\n",
            "93/93 [==============================] - 0s 2ms/step - loss: 3335780864.0000 - val_loss: 3222584832.0000\n",
            "Epoch 102/400\n",
            "93/93 [==============================] - 0s 2ms/step - loss: 3334099968.0000 - val_loss: 3218823936.0000\n",
            "Epoch 103/400\n",
            "93/93 [==============================] - 0s 2ms/step - loss: 3329196288.0000 - val_loss: 3225549824.0000\n",
            "Epoch 104/400\n",
            "93/93 [==============================] - 0s 2ms/step - loss: 3324604672.0000 - val_loss: 3211937280.0000\n",
            "Epoch 105/400\n",
            "93/93 [==============================] - 0s 2ms/step - loss: 3322707200.0000 - val_loss: 3206977792.0000\n",
            "Epoch 106/400\n",
            "93/93 [==============================] - 0s 2ms/step - loss: 3319675648.0000 - val_loss: 3214844160.0000\n",
            "Epoch 107/400\n",
            "93/93 [==============================] - 0s 2ms/step - loss: 3315182336.0000 - val_loss: 3209317888.0000\n",
            "Epoch 108/400\n",
            "93/93 [==============================] - 0s 2ms/step - loss: 3313843456.0000 - val_loss: 3209076224.0000\n",
            "Epoch 109/400\n",
            "93/93 [==============================] - 0s 2ms/step - loss: 3310520320.0000 - val_loss: 3213586688.0000\n",
            "Epoch 110/400\n",
            "93/93 [==============================] - 0s 2ms/step - loss: 3306848000.0000 - val_loss: 3194173952.0000\n",
            "Epoch 111/400\n",
            "93/93 [==============================] - 0s 2ms/step - loss: 3303815168.0000 - val_loss: 3187392000.0000\n",
            "Epoch 112/400\n",
            "93/93 [==============================] - 0s 2ms/step - loss: 3301103872.0000 - val_loss: 3195311616.0000\n",
            "Epoch 113/400\n",
            "93/93 [==============================] - 0s 2ms/step - loss: 3300390144.0000 - val_loss: 3183140352.0000\n",
            "Epoch 114/400\n",
            "93/93 [==============================] - 0s 2ms/step - loss: 3296146944.0000 - val_loss: 3188504576.0000\n",
            "Epoch 115/400\n",
            "93/93 [==============================] - 0s 2ms/step - loss: 3293308672.0000 - val_loss: 3189522944.0000\n",
            "Epoch 116/400\n",
            "93/93 [==============================] - 0s 2ms/step - loss: 3291000576.0000 - val_loss: 3172905216.0000\n",
            "Epoch 117/400\n",
            "93/93 [==============================] - 0s 2ms/step - loss: 3287798016.0000 - val_loss: 3185094144.0000\n",
            "Epoch 118/400\n",
            "93/93 [==============================] - 0s 3ms/step - loss: 3286754816.0000 - val_loss: 3167585024.0000\n",
            "Epoch 119/400\n",
            "93/93 [==============================] - 0s 2ms/step - loss: 3284552960.0000 - val_loss: 3176353536.0000\n",
            "Epoch 120/400\n",
            "93/93 [==============================] - 0s 2ms/step - loss: 3281004288.0000 - val_loss: 3169325056.0000\n",
            "Epoch 121/400\n",
            "93/93 [==============================] - 0s 2ms/step - loss: 3279907584.0000 - val_loss: 3174047232.0000\n",
            "Epoch 122/400\n",
            "93/93 [==============================] - 0s 2ms/step - loss: 3278500352.0000 - val_loss: 3166725376.0000\n",
            "Epoch 123/400\n",
            "93/93 [==============================] - 0s 2ms/step - loss: 3275894016.0000 - val_loss: 3160005376.0000\n",
            "Epoch 124/400\n",
            "93/93 [==============================] - 0s 2ms/step - loss: 3273823488.0000 - val_loss: 3164657664.0000\n",
            "Epoch 125/400\n",
            "93/93 [==============================] - 0s 2ms/step - loss: 3270884096.0000 - val_loss: 3161941248.0000\n",
            "Epoch 126/400\n",
            "93/93 [==============================] - 0s 2ms/step - loss: 3269386240.0000 - val_loss: 3153533952.0000\n",
            "Epoch 127/400\n",
            "93/93 [==============================] - 0s 2ms/step - loss: 3266830336.0000 - val_loss: 3149176576.0000\n",
            "Epoch 128/400\n",
            "93/93 [==============================] - 0s 2ms/step - loss: 3265001728.0000 - val_loss: 3144616448.0000\n",
            "Epoch 129/400\n",
            "93/93 [==============================] - 0s 2ms/step - loss: 3262286592.0000 - val_loss: 3174673920.0000\n",
            "Epoch 130/400\n",
            "93/93 [==============================] - 0s 2ms/step - loss: 3261929216.0000 - val_loss: 3143567104.0000\n",
            "Epoch 131/400\n",
            "93/93 [==============================] - 0s 2ms/step - loss: 3258992128.0000 - val_loss: 3145427200.0000\n",
            "Epoch 132/400\n",
            "93/93 [==============================] - 0s 2ms/step - loss: 3257250560.0000 - val_loss: 3146323456.0000\n",
            "Epoch 133/400\n",
            "93/93 [==============================] - 0s 2ms/step - loss: 3255325440.0000 - val_loss: 3148220160.0000\n",
            "Epoch 134/400\n",
            "93/93 [==============================] - 0s 2ms/step - loss: 3254010368.0000 - val_loss: 3157529856.0000\n",
            "Epoch 135/400\n",
            "93/93 [==============================] - 0s 2ms/step - loss: 3253390592.0000 - val_loss: 3139982336.0000\n",
            "Epoch 136/400\n",
            "93/93 [==============================] - 0s 2ms/step - loss: 3252436736.0000 - val_loss: 3141171712.0000\n",
            "Epoch 137/400\n",
            "93/93 [==============================] - 0s 2ms/step - loss: 3248846336.0000 - val_loss: 3148108288.0000\n",
            "Epoch 138/400\n",
            "93/93 [==============================] - 0s 2ms/step - loss: 3246202880.0000 - val_loss: 3125123328.0000\n",
            "Epoch 139/400\n",
            "93/93 [==============================] - 0s 2ms/step - loss: 3245460992.0000 - val_loss: 3154321920.0000\n",
            "Epoch 140/400\n",
            "93/93 [==============================] - 0s 2ms/step - loss: 3244103424.0000 - val_loss: 3131828480.0000\n",
            "Epoch 141/400\n",
            "93/93 [==============================] - 0s 2ms/step - loss: 3242259712.0000 - val_loss: 3127463168.0000\n",
            "Epoch 142/400\n",
            "93/93 [==============================] - 0s 2ms/step - loss: 3241647360.0000 - val_loss: 3136300288.0000\n",
            "Epoch 143/400\n",
            "93/93 [==============================] - 0s 2ms/step - loss: 3239264512.0000 - val_loss: 3147480576.0000\n",
            "Epoch 144/400\n",
            "93/93 [==============================] - 0s 2ms/step - loss: 3237414656.0000 - val_loss: 3120108800.0000\n",
            "Epoch 145/400\n",
            "93/93 [==============================] - 0s 2ms/step - loss: 3236763136.0000 - val_loss: 3108359424.0000\n",
            "Epoch 146/400\n",
            "93/93 [==============================] - 0s 2ms/step - loss: 3234195712.0000 - val_loss: 3127817472.0000\n",
            "Epoch 147/400\n",
            "93/93 [==============================] - 0s 2ms/step - loss: 3231743744.0000 - val_loss: 3130330112.0000\n",
            "Epoch 148/400\n",
            "93/93 [==============================] - 0s 2ms/step - loss: 3231333120.0000 - val_loss: 3124965376.0000\n",
            "Epoch 149/400\n",
            "93/93 [==============================] - 0s 2ms/step - loss: 3229140480.0000 - val_loss: 3119748608.0000\n",
            "Epoch 150/400\n",
            "93/93 [==============================] - 0s 2ms/step - loss: 3227219456.0000 - val_loss: 3132306176.0000\n",
            "Epoch 151/400\n",
            "93/93 [==============================] - 0s 2ms/step - loss: 3226752768.0000 - val_loss: 3114671104.0000\n",
            "Epoch 152/400\n",
            "93/93 [==============================] - 0s 2ms/step - loss: 3224366592.0000 - val_loss: 3118034688.0000\n",
            "Epoch 153/400\n",
            "93/93 [==============================] - 0s 2ms/step - loss: 3222654976.0000 - val_loss: 3128370688.0000\n",
            "Epoch 154/400\n",
            "93/93 [==============================] - 0s 2ms/step - loss: 3223378944.0000 - val_loss: 3136888320.0000\n",
            "Epoch 155/400\n",
            "93/93 [==============================] - 0s 2ms/step - loss: 3220988416.0000 - val_loss: 3135838208.0000\n",
            "Epoch 156/400\n",
            "93/93 [==============================] - 0s 2ms/step - loss: 3219324672.0000 - val_loss: 3094989824.0000\n",
            "Epoch 157/400\n",
            "93/93 [==============================] - 0s 2ms/step - loss: 3217794304.0000 - val_loss: 3109200128.0000\n",
            "Epoch 158/400\n",
            "93/93 [==============================] - 0s 2ms/step - loss: 3215853056.0000 - val_loss: 3108360448.0000\n",
            "Epoch 159/400\n",
            "93/93 [==============================] - 0s 2ms/step - loss: 3215253248.0000 - val_loss: 3133997568.0000\n",
            "Epoch 160/400\n",
            "93/93 [==============================] - 0s 2ms/step - loss: 3212470784.0000 - val_loss: 3100252672.0000\n",
            "Epoch 161/400\n",
            "93/93 [==============================] - 0s 2ms/step - loss: 3212031744.0000 - val_loss: 3102291968.0000\n",
            "Epoch 162/400\n",
            "93/93 [==============================] - 0s 2ms/step - loss: 3210168832.0000 - val_loss: 3117556224.0000\n",
            "Epoch 163/400\n",
            "93/93 [==============================] - 0s 2ms/step - loss: 3209192960.0000 - val_loss: 3110874368.0000\n",
            "Epoch 164/400\n",
            "93/93 [==============================] - 0s 2ms/step - loss: 3206581760.0000 - val_loss: 3099717120.0000\n",
            "Epoch 165/400\n",
            "93/93 [==============================] - 0s 2ms/step - loss: 3206208512.0000 - val_loss: 3096506880.0000\n",
            "Epoch 166/400\n",
            "93/93 [==============================] - 0s 2ms/step - loss: 3204031744.0000 - val_loss: 3110340096.0000\n",
            "Epoch 167/400\n",
            "93/93 [==============================] - 0s 2ms/step - loss: 3204307200.0000 - val_loss: 3124932864.0000\n",
            "Epoch 168/400\n",
            "93/93 [==============================] - 0s 2ms/step - loss: 3202954752.0000 - val_loss: 3085408512.0000\n",
            "Epoch 169/400\n",
            "93/93 [==============================] - 0s 2ms/step - loss: 3199533056.0000 - val_loss: 3104353792.0000\n",
            "Epoch 170/400\n",
            "93/93 [==============================] - 0s 2ms/step - loss: 3199661568.0000 - val_loss: 3095807232.0000\n",
            "Epoch 171/400\n",
            "93/93 [==============================] - 0s 2ms/step - loss: 3198183936.0000 - val_loss: 3101741568.0000\n",
            "Epoch 172/400\n",
            "93/93 [==============================] - 0s 2ms/step - loss: 3197249536.0000 - val_loss: 3079786240.0000\n",
            "Epoch 173/400\n",
            "93/93 [==============================] - 0s 2ms/step - loss: 3194713600.0000 - val_loss: 3099893760.0000\n",
            "Epoch 174/400\n",
            "93/93 [==============================] - 0s 2ms/step - loss: 3195311872.0000 - val_loss: 3110149120.0000\n",
            "Epoch 175/400\n",
            "93/93 [==============================] - 0s 2ms/step - loss: 3192214528.0000 - val_loss: 3090043392.0000\n",
            "Epoch 176/400\n",
            "93/93 [==============================] - 0s 2ms/step - loss: 3190304512.0000 - val_loss: 3098143488.0000\n",
            "Epoch 177/400\n",
            "93/93 [==============================] - 0s 2ms/step - loss: 3189691392.0000 - val_loss: 3081099008.0000\n",
            "Epoch 178/400\n",
            "93/93 [==============================] - 0s 2ms/step - loss: 3189317888.0000 - val_loss: 3073140224.0000\n",
            "Epoch 179/400\n",
            "93/93 [==============================] - 0s 2ms/step - loss: 3186127360.0000 - val_loss: 3102567168.0000\n",
            "Epoch 180/400\n",
            "93/93 [==============================] - 0s 2ms/step - loss: 3186803968.0000 - val_loss: 3090617856.0000\n",
            "Epoch 181/400\n",
            "93/93 [==============================] - 0s 2ms/step - loss: 3184132864.0000 - val_loss: 3082014208.0000\n",
            "Epoch 182/400\n",
            "93/93 [==============================] - 0s 2ms/step - loss: 3183623424.0000 - val_loss: 3097563648.0000\n",
            "Epoch 183/400\n",
            "93/93 [==============================] - 0s 2ms/step - loss: 3181288704.0000 - val_loss: 3067783680.0000\n",
            "Epoch 184/400\n",
            "93/93 [==============================] - 0s 2ms/step - loss: 3181318656.0000 - val_loss: 3081093120.0000\n",
            "Epoch 185/400\n",
            "93/93 [==============================] - 0s 2ms/step - loss: 3180455424.0000 - val_loss: 3101463040.0000\n",
            "Epoch 186/400\n",
            "93/93 [==============================] - 0s 2ms/step - loss: 3179179264.0000 - val_loss: 3086658560.0000\n",
            "Epoch 187/400\n",
            "93/93 [==============================] - 0s 2ms/step - loss: 3176468992.0000 - val_loss: 3105615872.0000\n",
            "Epoch 188/400\n",
            "93/93 [==============================] - 0s 2ms/step - loss: 3175845632.0000 - val_loss: 3102868736.0000\n",
            "Epoch 189/400\n",
            "93/93 [==============================] - 0s 2ms/step - loss: 3174089216.0000 - val_loss: 3079613952.0000\n",
            "Epoch 190/400\n",
            "93/93 [==============================] - 0s 2ms/step - loss: 3173479936.0000 - val_loss: 3087552256.0000\n",
            "Epoch 191/400\n",
            "93/93 [==============================] - 0s 2ms/step - loss: 3172086528.0000 - val_loss: 3087143936.0000\n",
            "Epoch 192/400\n",
            "93/93 [==============================] - 0s 2ms/step - loss: 3170386688.0000 - val_loss: 3083463168.0000\n",
            "Epoch 193/400\n",
            "93/93 [==============================] - 0s 2ms/step - loss: 3170356736.0000 - val_loss: 3087455744.0000\n",
            "Epoch 194/400\n",
            "93/93 [==============================] - 0s 2ms/step - loss: 3167677696.0000 - val_loss: 3091456256.0000\n",
            "Epoch 195/400\n",
            "93/93 [==============================] - 0s 2ms/step - loss: 3166541056.0000 - val_loss: 3092701184.0000\n",
            "Epoch 196/400\n",
            "93/93 [==============================] - 0s 2ms/step - loss: 3165994240.0000 - val_loss: 3078670848.0000\n",
            "Epoch 197/400\n",
            "93/93 [==============================] - 0s 2ms/step - loss: 3164098560.0000 - val_loss: 3085006336.0000\n",
            "Epoch 198/400\n",
            "93/93 [==============================] - 0s 2ms/step - loss: 3163529728.0000 - val_loss: 3085973504.0000\n",
            "Epoch 199/400\n",
            "93/93 [==============================] - 0s 2ms/step - loss: 3162094336.0000 - val_loss: 3070511872.0000\n",
            "Epoch 200/400\n",
            "93/93 [==============================] - 0s 2ms/step - loss: 3160956928.0000 - val_loss: 3080373504.0000\n",
            "Epoch 201/400\n",
            "93/93 [==============================] - 0s 2ms/step - loss: 3159330560.0000 - val_loss: 3082219520.0000\n",
            "Epoch 202/400\n",
            "93/93 [==============================] - 0s 2ms/step - loss: 3158942720.0000 - val_loss: 3083237632.0000\n",
            "Epoch 203/400\n",
            "93/93 [==============================] - 0s 2ms/step - loss: 3157506048.0000 - val_loss: 3070855424.0000\n",
            "Epoch 204/400\n",
            "93/93 [==============================] - 0s 2ms/step - loss: 3155944192.0000 - val_loss: 3073225728.0000\n",
            "Epoch 205/400\n",
            "93/93 [==============================] - 0s 2ms/step - loss: 3154669824.0000 - val_loss: 3099320064.0000\n",
            "Epoch 206/400\n",
            "93/93 [==============================] - 0s 2ms/step - loss: 3153730048.0000 - val_loss: 3099288576.0000\n",
            "Epoch 207/400\n",
            "93/93 [==============================] - 0s 2ms/step - loss: 3153039872.0000 - val_loss: 3072487936.0000\n",
            "Epoch 208/400\n",
            "93/93 [==============================] - 0s 2ms/step - loss: 3151802368.0000 - val_loss: 3090420736.0000\n",
            "Epoch 209/400\n",
            "93/93 [==============================] - 0s 2ms/step - loss: 3149995008.0000 - val_loss: 3073028864.0000\n",
            "Epoch 210/400\n",
            "93/93 [==============================] - 0s 2ms/step - loss: 3150193152.0000 - val_loss: 3055820288.0000\n",
            "Epoch 211/400\n",
            "93/93 [==============================] - 0s 2ms/step - loss: 3148027392.0000 - val_loss: 3093587200.0000\n",
            "Epoch 212/400\n",
            "93/93 [==============================] - 0s 2ms/step - loss: 3147604480.0000 - val_loss: 3096882688.0000\n",
            "Epoch 213/400\n",
            "93/93 [==============================] - 0s 2ms/step - loss: 3144773888.0000 - val_loss: 3110471424.0000\n",
            "Epoch 214/400\n",
            "93/93 [==============================] - 0s 2ms/step - loss: 3144657152.0000 - val_loss: 3077150208.0000\n",
            "Epoch 215/400\n",
            "93/93 [==============================] - 0s 2ms/step - loss: 3143103488.0000 - val_loss: 3050781440.0000\n",
            "Epoch 216/400\n",
            "93/93 [==============================] - 0s 2ms/step - loss: 3142640384.0000 - val_loss: 3061172736.0000\n",
            "Epoch 217/400\n",
            "93/93 [==============================] - 0s 2ms/step - loss: 3142499584.0000 - val_loss: 3080092416.0000\n",
            "Epoch 218/400\n",
            "93/93 [==============================] - 0s 2ms/step - loss: 3140815872.0000 - val_loss: 3073529344.0000\n",
            "Epoch 219/400\n",
            "93/93 [==============================] - 0s 2ms/step - loss: 3139363840.0000 - val_loss: 3062331648.0000\n",
            "Epoch 220/400\n",
            "93/93 [==============================] - 0s 2ms/step - loss: 3137097216.0000 - val_loss: 3088584192.0000\n",
            "Epoch 221/400\n",
            "93/93 [==============================] - 0s 2ms/step - loss: 3137127680.0000 - val_loss: 3069579776.0000\n",
            "Epoch 222/400\n",
            "93/93 [==============================] - 0s 2ms/step - loss: 3135716096.0000 - val_loss: 3089117696.0000\n",
            "Epoch 223/400\n",
            "93/93 [==============================] - 0s 2ms/step - loss: 3135675648.0000 - val_loss: 3081264896.0000\n",
            "Epoch 224/400\n",
            "93/93 [==============================] - 0s 2ms/step - loss: 3134375936.0000 - val_loss: 3066211840.0000\n",
            "Epoch 225/400\n",
            "93/93 [==============================] - 0s 2ms/step - loss: 3134859008.0000 - val_loss: 3088343552.0000\n",
            "Epoch 226/400\n",
            "93/93 [==============================] - 0s 2ms/step - loss: 3132069632.0000 - val_loss: 3078441472.0000\n",
            "Epoch 227/400\n",
            "93/93 [==============================] - 0s 2ms/step - loss: 3130848768.0000 - val_loss: 3087297792.0000\n",
            "Epoch 228/400\n",
            "93/93 [==============================] - 0s 2ms/step - loss: 3129105152.0000 - val_loss: 3096519424.0000\n",
            "Epoch 229/400\n",
            "93/93 [==============================] - 0s 2ms/step - loss: 3128772096.0000 - val_loss: 3095234816.0000\n",
            "Epoch 230/400\n",
            "93/93 [==============================] - 0s 2ms/step - loss: 3128443648.0000 - val_loss: 3094568192.0000\n",
            "Epoch 231/400\n",
            "93/93 [==============================] - 0s 2ms/step - loss: 3126727424.0000 - val_loss: 3051082240.0000\n",
            "Epoch 232/400\n",
            "93/93 [==============================] - 0s 2ms/step - loss: 3126540032.0000 - val_loss: 3064736768.0000\n",
            "Epoch 233/400\n",
            "93/93 [==============================] - 0s 2ms/step - loss: 3124026368.0000 - val_loss: 3087059968.0000\n",
            "Epoch 234/400\n",
            "93/93 [==============================] - 0s 2ms/step - loss: 3122595584.0000 - val_loss: 3081163776.0000\n",
            "Epoch 235/400\n",
            "93/93 [==============================] - 0s 2ms/step - loss: 3122099712.0000 - val_loss: 3074053376.0000\n",
            "Epoch 236/400\n",
            "93/93 [==============================] - 0s 2ms/step - loss: 3120946944.0000 - val_loss: 3067159040.0000\n",
            "Epoch 237/400\n",
            "93/93 [==============================] - 0s 2ms/step - loss: 3119582976.0000 - val_loss: 3078923776.0000\n",
            "Epoch 238/400\n",
            "93/93 [==============================] - 0s 2ms/step - loss: 3117966080.0000 - val_loss: 3070649344.0000\n",
            "Epoch 239/400\n",
            "93/93 [==============================] - 0s 2ms/step - loss: 3118806784.0000 - val_loss: 3079088128.0000\n",
            "Epoch 240/400\n",
            "93/93 [==============================] - 0s 2ms/step - loss: 3116589568.0000 - val_loss: 3079814144.0000\n",
            "Epoch 241/400\n",
            "93/93 [==============================] - 0s 2ms/step - loss: 3115972864.0000 - val_loss: 3086174720.0000\n",
            "Epoch 242/400\n",
            "93/93 [==============================] - 0s 2ms/step - loss: 3114469888.0000 - val_loss: 3077852416.0000\n",
            "Epoch 243/400\n",
            "93/93 [==============================] - 0s 2ms/step - loss: 3113473280.0000 - val_loss: 3083512576.0000\n",
            "Epoch 244/400\n",
            "93/93 [==============================] - 0s 2ms/step - loss: 3111555840.0000 - val_loss: 3061033984.0000\n",
            "Epoch 245/400\n",
            "93/93 [==============================] - 0s 2ms/step - loss: 3112133376.0000 - val_loss: 3072892672.0000\n",
            "Epoch 246/400\n",
            "93/93 [==============================] - 0s 2ms/step - loss: 3109481728.0000 - val_loss: 3057911552.0000\n",
            "Epoch 247/400\n",
            "93/93 [==============================] - 0s 2ms/step - loss: 3109672960.0000 - val_loss: 3088851968.0000\n",
            "Epoch 248/400\n",
            "93/93 [==============================] - 0s 2ms/step - loss: 3109531392.0000 - val_loss: 3081556480.0000\n",
            "Epoch 249/400\n",
            "93/93 [==============================] - 0s 2ms/step - loss: 3108638208.0000 - val_loss: 3087721728.0000\n",
            "Epoch 250/400\n",
            "93/93 [==============================] - 0s 2ms/step - loss: 3105328640.0000 - val_loss: 3120301568.0000\n",
            "Epoch 251/400\n",
            "93/93 [==============================] - 0s 2ms/step - loss: 3105956352.0000 - val_loss: 3091277312.0000\n",
            "Epoch 252/400\n",
            "93/93 [==============================] - 0s 2ms/step - loss: 3103906816.0000 - val_loss: 3108403968.0000\n",
            "Epoch 253/400\n",
            "93/93 [==============================] - 0s 2ms/step - loss: 3103637760.0000 - val_loss: 3101991680.0000\n",
            "Epoch 254/400\n",
            "93/93 [==============================] - 0s 2ms/step - loss: 3102556672.0000 - val_loss: 3095681792.0000\n",
            "Epoch 255/400\n",
            "93/93 [==============================] - 0s 2ms/step - loss: 3102566656.0000 - val_loss: 3077111040.0000\n",
            "Epoch 256/400\n",
            "93/93 [==============================] - 0s 2ms/step - loss: 3099645952.0000 - val_loss: 3115131136.0000\n",
            "Epoch 257/400\n",
            "93/93 [==============================] - 0s 2ms/step - loss: 3100003328.0000 - val_loss: 3075638784.0000\n",
            "Epoch 258/400\n",
            "93/93 [==============================] - 0s 2ms/step - loss: 3097957888.0000 - val_loss: 3110135296.0000\n",
            "Epoch 259/400\n",
            "93/93 [==============================] - 0s 2ms/step - loss: 3098629120.0000 - val_loss: 3135584768.0000\n",
            "Epoch 260/400\n",
            "93/93 [==============================] - 0s 2ms/step - loss: 3096109056.0000 - val_loss: 3075996160.0000\n",
            "Epoch 261/400\n",
            "93/93 [==============================] - 0s 2ms/step - loss: 3095679744.0000 - val_loss: 3079662592.0000\n",
            "Epoch 262/400\n",
            "93/93 [==============================] - 0s 2ms/step - loss: 3094414080.0000 - val_loss: 3100943872.0000\n",
            "Epoch 263/400\n",
            "93/93 [==============================] - 0s 2ms/step - loss: 3093495040.0000 - val_loss: 3095245056.0000\n",
            "Epoch 264/400\n",
            "93/93 [==============================] - 0s 2ms/step - loss: 3092698112.0000 - val_loss: 3123343872.0000\n",
            "Epoch 265/400\n",
            "93/93 [==============================] - 0s 2ms/step - loss: 3091578624.0000 - val_loss: 3111676160.0000\n",
            "Epoch 266/400\n",
            "93/93 [==============================] - 0s 2ms/step - loss: 3092024832.0000 - val_loss: 3105088768.0000\n",
            "Epoch 267/400\n",
            "93/93 [==============================] - 0s 2ms/step - loss: 3089735680.0000 - val_loss: 3104443904.0000\n",
            "Epoch 268/400\n",
            "93/93 [==============================] - 0s 2ms/step - loss: 3088276992.0000 - val_loss: 3128493568.0000\n",
            "Epoch 269/400\n",
            "93/93 [==============================] - 0s 2ms/step - loss: 3087566336.0000 - val_loss: 3081581056.0000\n",
            "Epoch 270/400\n",
            "93/93 [==============================] - 0s 2ms/step - loss: 3086806528.0000 - val_loss: 3109978368.0000\n",
            "Epoch 271/400\n",
            "93/93 [==============================] - 0s 2ms/step - loss: 3085069568.0000 - val_loss: 3066555904.0000\n",
            "Epoch 272/400\n",
            "93/93 [==============================] - 0s 2ms/step - loss: 3086591744.0000 - val_loss: 3134542080.0000\n",
            "Epoch 273/400\n",
            "93/93 [==============================] - 0s 2ms/step - loss: 3084309248.0000 - val_loss: 3120914944.0000\n",
            "Epoch 274/400\n",
            "93/93 [==============================] - 0s 2ms/step - loss: 3084381696.0000 - val_loss: 3082625536.0000\n",
            "Epoch 275/400\n",
            "93/93 [==============================] - 0s 2ms/step - loss: 3082068992.0000 - val_loss: 3121077760.0000\n",
            "Epoch 276/400\n",
            "93/93 [==============================] - 0s 2ms/step - loss: 3082132736.0000 - val_loss: 3103040512.0000\n",
            "Epoch 277/400\n",
            "93/93 [==============================] - 0s 2ms/step - loss: 3080377600.0000 - val_loss: 3121321472.0000\n",
            "Epoch 278/400\n",
            "93/93 [==============================] - 0s 2ms/step - loss: 3079235072.0000 - val_loss: 3102556416.0000\n",
            "Epoch 279/400\n",
            "93/93 [==============================] - 0s 2ms/step - loss: 3077444864.0000 - val_loss: 3071079936.0000\n",
            "Epoch 280/400\n",
            "93/93 [==============================] - 0s 2ms/step - loss: 3080370944.0000 - val_loss: 3107812096.0000\n",
            "Epoch 281/400\n",
            "93/93 [==============================] - 0s 2ms/step - loss: 3077129472.0000 - val_loss: 3100301824.0000\n",
            "Epoch 282/400\n",
            "93/93 [==============================] - 0s 2ms/step - loss: 3076082688.0000 - val_loss: 3093494528.0000\n",
            "Epoch 283/400\n",
            "93/93 [==============================] - 0s 2ms/step - loss: 3074231296.0000 - val_loss: 3129403648.0000\n",
            "Epoch 284/400\n",
            "93/93 [==============================] - 0s 2ms/step - loss: 3074421760.0000 - val_loss: 3115522304.0000\n",
            "Epoch 285/400\n",
            "93/93 [==============================] - 0s 2ms/step - loss: 3073963264.0000 - val_loss: 3156964864.0000\n",
            "Epoch 286/400\n",
            "93/93 [==============================] - 0s 2ms/step - loss: 3073544960.0000 - val_loss: 3145840640.0000\n",
            "Epoch 287/400\n",
            "93/93 [==============================] - 0s 2ms/step - loss: 3072530944.0000 - val_loss: 3136220416.0000\n",
            "Epoch 288/400\n",
            "93/93 [==============================] - 0s 2ms/step - loss: 3071019776.0000 - val_loss: 3108062208.0000\n",
            "Epoch 289/400\n",
            "93/93 [==============================] - 0s 2ms/step - loss: 3072165632.0000 - val_loss: 3090743808.0000\n",
            "Epoch 290/400\n",
            "93/93 [==============================] - 0s 2ms/step - loss: 3069849600.0000 - val_loss: 3129805056.0000\n",
            "Epoch 291/400\n",
            "93/93 [==============================] - 0s 2ms/step - loss: 3068614656.0000 - val_loss: 3118834176.0000\n",
            "Epoch 292/400\n",
            "93/93 [==============================] - 0s 2ms/step - loss: 3068194048.0000 - val_loss: 3117106944.0000\n",
            "Epoch 293/400\n",
            "93/93 [==============================] - 0s 2ms/step - loss: 3068142080.0000 - val_loss: 3117497856.0000\n",
            "Epoch 294/400\n",
            "93/93 [==============================] - 0s 2ms/step - loss: 3066099968.0000 - val_loss: 3173809408.0000\n",
            "Epoch 295/400\n",
            "93/93 [==============================] - 0s 2ms/step - loss: 3065862400.0000 - val_loss: 3171334912.0000\n",
            "Epoch 296/400\n",
            "93/93 [==============================] - 0s 2ms/step - loss: 3065513472.0000 - val_loss: 3165143296.0000\n",
            "Epoch 297/400\n",
            "93/93 [==============================] - 0s 2ms/step - loss: 3062639360.0000 - val_loss: 3109600512.0000\n",
            "Epoch 298/400\n",
            "93/93 [==============================] - 0s 2ms/step - loss: 3063445760.0000 - val_loss: 3120515072.0000\n",
            "Epoch 299/400\n",
            "93/93 [==============================] - 0s 2ms/step - loss: 3062107648.0000 - val_loss: 3130456576.0000\n",
            "Epoch 300/400\n",
            "93/93 [==============================] - 0s 2ms/step - loss: 3060835584.0000 - val_loss: 3178948608.0000\n",
            "Epoch 301/400\n",
            "93/93 [==============================] - 0s 2ms/step - loss: 3060069888.0000 - val_loss: 3114920192.0000\n",
            "Epoch 302/400\n",
            "93/93 [==============================] - 0s 2ms/step - loss: 3059996416.0000 - val_loss: 3124996864.0000\n",
            "Epoch 303/400\n",
            "93/93 [==============================] - 0s 2ms/step - loss: 3058689536.0000 - val_loss: 3150022144.0000\n",
            "Epoch 304/400\n",
            "93/93 [==============================] - 0s 2ms/step - loss: 3059839488.0000 - val_loss: 3134698240.0000\n",
            "Epoch 305/400\n",
            "93/93 [==============================] - 0s 2ms/step - loss: 3057183488.0000 - val_loss: 3152675328.0000\n",
            "Epoch 306/400\n",
            "93/93 [==============================] - 0s 2ms/step - loss: 3056635392.0000 - val_loss: 3147688448.0000\n",
            "Epoch 307/400\n",
            "93/93 [==============================] - 0s 2ms/step - loss: 3055025408.0000 - val_loss: 3200957952.0000\n",
            "Epoch 308/400\n",
            "93/93 [==============================] - 0s 2ms/step - loss: 3056102144.0000 - val_loss: 3148575488.0000\n",
            "Epoch 309/400\n",
            "93/93 [==============================] - 0s 2ms/step - loss: 3054235392.0000 - val_loss: 3172625408.0000\n",
            "Epoch 310/400\n",
            "93/93 [==============================] - 0s 2ms/step - loss: 3054367744.0000 - val_loss: 3155941120.0000\n",
            "Epoch 311/400\n",
            "93/93 [==============================] - 0s 2ms/step - loss: 3053139456.0000 - val_loss: 3116349952.0000\n",
            "Epoch 312/400\n",
            "93/93 [==============================] - 0s 2ms/step - loss: 3052630528.0000 - val_loss: 3152383744.0000\n",
            "Epoch 313/400\n",
            "93/93 [==============================] - 0s 2ms/step - loss: 3050858240.0000 - val_loss: 3131278080.0000\n",
            "Epoch 314/400\n",
            "93/93 [==============================] - 0s 2ms/step - loss: 3052006144.0000 - val_loss: 3161379328.0000\n",
            "Epoch 315/400\n",
            "93/93 [==============================] - 0s 2ms/step - loss: 3050514432.0000 - val_loss: 3179244800.0000\n",
            "Epoch 316/400\n",
            "93/93 [==============================] - 0s 2ms/step - loss: 3050121984.0000 - val_loss: 3224988416.0000\n",
            "Epoch 317/400\n",
            "93/93 [==============================] - 0s 2ms/step - loss: 3049853696.0000 - val_loss: 3178558976.0000\n",
            "Epoch 318/400\n",
            "93/93 [==============================] - 0s 2ms/step - loss: 3048297216.0000 - val_loss: 3167560960.0000\n",
            "Epoch 319/400\n",
            "93/93 [==============================] - 0s 2ms/step - loss: 3047863296.0000 - val_loss: 3174001152.0000\n",
            "Epoch 320/400\n",
            "93/93 [==============================] - 0s 2ms/step - loss: 3047303424.0000 - val_loss: 3174526464.0000\n",
            "Epoch 321/400\n",
            "93/93 [==============================] - 0s 2ms/step - loss: 3045360640.0000 - val_loss: 3135546624.0000\n",
            "Epoch 322/400\n",
            "93/93 [==============================] - 0s 2ms/step - loss: 3045057536.0000 - val_loss: 3186800128.0000\n",
            "Epoch 323/400\n",
            "93/93 [==============================] - 0s 2ms/step - loss: 3044525568.0000 - val_loss: 3173949440.0000\n",
            "Epoch 324/400\n",
            "93/93 [==============================] - 0s 2ms/step - loss: 3044242432.0000 - val_loss: 3173223936.0000\n",
            "Epoch 325/400\n",
            "93/93 [==============================] - 0s 2ms/step - loss: 3043201280.0000 - val_loss: 3193300736.0000\n",
            "Epoch 326/400\n",
            "93/93 [==============================] - 0s 2ms/step - loss: 3042460416.0000 - val_loss: 3191947008.0000\n",
            "Epoch 327/400\n",
            "93/93 [==============================] - 0s 2ms/step - loss: 3042134272.0000 - val_loss: 3228828672.0000\n",
            "Epoch 328/400\n",
            "93/93 [==============================] - 0s 2ms/step - loss: 3040314880.0000 - val_loss: 3162746368.0000\n",
            "Epoch 329/400\n",
            "93/93 [==============================] - 0s 2ms/step - loss: 3041411840.0000 - val_loss: 3206466560.0000\n",
            "Epoch 330/400\n",
            "93/93 [==============================] - 0s 2ms/step - loss: 3039062272.0000 - val_loss: 3155816960.0000\n",
            "Epoch 331/400\n",
            "93/93 [==============================] - 0s 2ms/step - loss: 3040424448.0000 - val_loss: 3165359104.0000\n",
            "Epoch 332/400\n",
            "93/93 [==============================] - 0s 2ms/step - loss: 3037874688.0000 - val_loss: 3253870592.0000\n",
            "Epoch 333/400\n",
            "93/93 [==============================] - 0s 2ms/step - loss: 3040231680.0000 - val_loss: 3190716928.0000\n",
            "Epoch 334/400\n",
            "93/93 [==============================] - 0s 2ms/step - loss: 3036763904.0000 - val_loss: 3154800128.0000\n",
            "Epoch 335/400\n",
            "93/93 [==============================] - 0s 2ms/step - loss: 3038003968.0000 - val_loss: 3183150848.0000\n",
            "Epoch 336/400\n",
            "93/93 [==============================] - 0s 2ms/step - loss: 3036129024.0000 - val_loss: 3216421376.0000\n",
            "Epoch 337/400\n",
            "93/93 [==============================] - 0s 2ms/step - loss: 3037188864.0000 - val_loss: 3233148928.0000\n",
            "Epoch 338/400\n",
            "93/93 [==============================] - 0s 2ms/step - loss: 3035024896.0000 - val_loss: 3211878400.0000\n",
            "Epoch 339/400\n",
            "93/93 [==============================] - 0s 2ms/step - loss: 3034587392.0000 - val_loss: 3165691392.0000\n",
            "Epoch 340/400\n",
            "93/93 [==============================] - 0s 2ms/step - loss: 3034384384.0000 - val_loss: 3227181568.0000\n",
            "Epoch 341/400\n",
            "93/93 [==============================] - 0s 2ms/step - loss: 3034310400.0000 - val_loss: 3190654208.0000\n",
            "Epoch 342/400\n",
            "93/93 [==============================] - 0s 2ms/step - loss: 3033769728.0000 - val_loss: 3179571456.0000\n",
            "Epoch 343/400\n",
            "93/93 [==============================] - 0s 2ms/step - loss: 3032928256.0000 - val_loss: 3197632000.0000\n",
            "Epoch 344/400\n",
            "93/93 [==============================] - 0s 2ms/step - loss: 3030595584.0000 - val_loss: 3287093760.0000\n",
            "Epoch 345/400\n",
            "93/93 [==============================] - 0s 2ms/step - loss: 3031997440.0000 - val_loss: 3217819136.0000\n",
            "Epoch 346/400\n",
            "93/93 [==============================] - 0s 2ms/step - loss: 3029820928.0000 - val_loss: 3212248576.0000\n",
            "Epoch 347/400\n",
            "93/93 [==============================] - 0s 2ms/step - loss: 3030640128.0000 - val_loss: 3225847296.0000\n",
            "Epoch 348/400\n",
            "93/93 [==============================] - 0s 2ms/step - loss: 3028548096.0000 - val_loss: 3206058496.0000\n",
            "Epoch 349/400\n",
            "93/93 [==============================] - 0s 2ms/step - loss: 3027898880.0000 - val_loss: 3244455680.0000\n",
            "Epoch 350/400\n",
            "93/93 [==============================] - 0s 2ms/step - loss: 3027949568.0000 - val_loss: 3240166400.0000\n",
            "Epoch 351/400\n",
            "93/93 [==============================] - 0s 2ms/step - loss: 3027059456.0000 - val_loss: 3229560064.0000\n",
            "Epoch 352/400\n",
            "93/93 [==============================] - 0s 2ms/step - loss: 3026645248.0000 - val_loss: 3224724480.0000\n",
            "Epoch 353/400\n",
            "93/93 [==============================] - 0s 2ms/step - loss: 3026078208.0000 - val_loss: 3232364288.0000\n",
            "Epoch 354/400\n",
            "93/93 [==============================] - 0s 2ms/step - loss: 3027762176.0000 - val_loss: 3197654016.0000\n",
            "Epoch 355/400\n",
            "93/93 [==============================] - 0s 2ms/step - loss: 3025149952.0000 - val_loss: 3213925376.0000\n",
            "Epoch 356/400\n",
            "93/93 [==============================] - 0s 2ms/step - loss: 3024950016.0000 - val_loss: 3266028288.0000\n",
            "Epoch 357/400\n",
            "93/93 [==============================] - 0s 2ms/step - loss: 3024178432.0000 - val_loss: 3234345216.0000\n",
            "Epoch 358/400\n",
            "93/93 [==============================] - 0s 2ms/step - loss: 3023678464.0000 - val_loss: 3234780416.0000\n",
            "Epoch 359/400\n",
            "93/93 [==============================] - 0s 2ms/step - loss: 3022908928.0000 - val_loss: 3281050112.0000\n",
            "Epoch 360/400\n",
            "93/93 [==============================] - 0s 2ms/step - loss: 3023755264.0000 - val_loss: 3247142912.0000\n",
            "Epoch 361/400\n",
            "93/93 [==============================] - 0s 2ms/step - loss: 3022599680.0000 - val_loss: 3261011200.0000\n",
            "Epoch 362/400\n",
            "93/93 [==============================] - 0s 2ms/step - loss: 3021987584.0000 - val_loss: 3303090432.0000\n",
            "Epoch 363/400\n",
            "93/93 [==============================] - 0s 2ms/step - loss: 3021611520.0000 - val_loss: 3266016256.0000\n",
            "Epoch 364/400\n",
            "93/93 [==============================] - 0s 2ms/step - loss: 3020663040.0000 - val_loss: 3283701760.0000\n",
            "Epoch 365/400\n",
            "93/93 [==============================] - 0s 2ms/step - loss: 3019160320.0000 - val_loss: 3318801920.0000\n",
            "Epoch 366/400\n",
            "93/93 [==============================] - 0s 2ms/step - loss: 3020109824.0000 - val_loss: 3248404736.0000\n",
            "Epoch 367/400\n",
            "93/93 [==============================] - 0s 2ms/step - loss: 3019351296.0000 - val_loss: 3242519296.0000\n",
            "Epoch 368/400\n",
            "93/93 [==============================] - 0s 2ms/step - loss: 3017968128.0000 - val_loss: 3286353152.0000\n",
            "Epoch 369/400\n",
            "93/93 [==============================] - 0s 2ms/step - loss: 3017966592.0000 - val_loss: 3242858752.0000\n",
            "Epoch 370/400\n",
            "93/93 [==============================] - 0s 2ms/step - loss: 3018152704.0000 - val_loss: 3284524544.0000\n",
            "Epoch 371/400\n",
            "93/93 [==============================] - 0s 2ms/step - loss: 3015991808.0000 - val_loss: 3276159488.0000\n",
            "Epoch 372/400\n",
            "93/93 [==============================] - 0s 2ms/step - loss: 3017547008.0000 - val_loss: 3235184128.0000\n",
            "Epoch 373/400\n",
            "93/93 [==============================] - 0s 2ms/step - loss: 3016842240.0000 - val_loss: 3285202176.0000\n",
            "Epoch 374/400\n",
            "93/93 [==============================] - 0s 2ms/step - loss: 3015256832.0000 - val_loss: 3316541696.0000\n",
            "Epoch 375/400\n",
            "93/93 [==============================] - 0s 2ms/step - loss: 3015000320.0000 - val_loss: 3244791296.0000\n",
            "Epoch 376/400\n",
            "93/93 [==============================] - 0s 2ms/step - loss: 3014877952.0000 - val_loss: 3228663808.0000\n",
            "Epoch 377/400\n",
            "93/93 [==============================] - 0s 2ms/step - loss: 3013945088.0000 - val_loss: 3322888448.0000\n",
            "Epoch 378/400\n",
            "93/93 [==============================] - 0s 5ms/step - loss: 3013886208.0000 - val_loss: 3284252672.0000\n",
            "Epoch 379/400\n",
            "93/93 [==============================] - 0s 2ms/step - loss: 3013590528.0000 - val_loss: 3328209408.0000\n",
            "Epoch 380/400\n",
            "93/93 [==============================] - 0s 2ms/step - loss: 3011599872.0000 - val_loss: 3242759424.0000\n",
            "Epoch 381/400\n",
            "93/93 [==============================] - 0s 2ms/step - loss: 3011895808.0000 - val_loss: 3225193984.0000\n",
            "Epoch 382/400\n",
            "93/93 [==============================] - 0s 2ms/step - loss: 3012787968.0000 - val_loss: 3291671040.0000\n",
            "Epoch 383/400\n",
            "93/93 [==============================] - 0s 2ms/step - loss: 3010937088.0000 - val_loss: 3341425664.0000\n",
            "Epoch 384/400\n",
            "93/93 [==============================] - 0s 2ms/step - loss: 3011629824.0000 - val_loss: 3300776192.0000\n",
            "Epoch 385/400\n",
            "93/93 [==============================] - 0s 2ms/step - loss: 3011456256.0000 - val_loss: 3324716288.0000\n",
            "Epoch 386/400\n",
            "93/93 [==============================] - 0s 2ms/step - loss: 3010738944.0000 - val_loss: 3297144320.0000\n",
            "Epoch 387/400\n",
            "93/93 [==============================] - 0s 2ms/step - loss: 3011153408.0000 - val_loss: 3320877312.0000\n",
            "Epoch 388/400\n",
            "93/93 [==============================] - 0s 2ms/step - loss: 3009069312.0000 - val_loss: 3302633472.0000\n",
            "Epoch 389/400\n",
            "93/93 [==============================] - 0s 2ms/step - loss: 3009677312.0000 - val_loss: 3332283648.0000\n",
            "Epoch 390/400\n",
            "93/93 [==============================] - 0s 2ms/step - loss: 3008622080.0000 - val_loss: 3317221888.0000\n",
            "Epoch 391/400\n",
            "93/93 [==============================] - 0s 2ms/step - loss: 3008190720.0000 - val_loss: 3337527296.0000\n",
            "Epoch 392/400\n",
            "93/93 [==============================] - 0s 2ms/step - loss: 3008841984.0000 - val_loss: 3313536000.0000\n",
            "Epoch 393/400\n",
            "93/93 [==============================] - 0s 2ms/step - loss: 3006986240.0000 - val_loss: 3349145088.0000\n",
            "Epoch 394/400\n",
            "93/93 [==============================] - 0s 2ms/step - loss: 3007193088.0000 - val_loss: 3299314176.0000\n",
            "Epoch 395/400\n",
            "93/93 [==============================] - 0s 2ms/step - loss: 3007920128.0000 - val_loss: 3363470848.0000\n",
            "Epoch 396/400\n",
            "93/93 [==============================] - 0s 2ms/step - loss: 3007259648.0000 - val_loss: 3357652992.0000\n",
            "Epoch 397/400\n",
            "93/93 [==============================] - 0s 2ms/step - loss: 3005799424.0000 - val_loss: 3366354432.0000\n",
            "Epoch 398/400\n",
            "93/93 [==============================] - 0s 2ms/step - loss: 3007008768.0000 - val_loss: 3379080704.0000\n",
            "Epoch 399/400\n",
            "93/93 [==============================] - 0s 2ms/step - loss: 3005225216.0000 - val_loss: 3347290624.0000\n",
            "Epoch 400/400\n",
            "93/93 [==============================] - 0s 2ms/step - loss: 3005323776.0000 - val_loss: 3314361600.0000\n"
          ],
          "name": "stdout"
        },
        {
          "output_type": "execute_result",
          "data": {
            "text/plain": [
              "<tensorflow.python.keras.callbacks.History at 0x7fb4f40af240>"
            ]
          },
          "metadata": {
            "tags": []
          },
          "execution_count": 74
        }
      ]
    },
    {
      "cell_type": "code",
      "metadata": {
        "id": "-45w9o_ObRkG",
        "colab_type": "code",
        "outputId": "a1a623b0-38e5-4b2d-fd0f-10d0291f34e5",
        "colab": {
          "base_uri": "https://localhost:8080/",
          "height": 419
        }
      },
      "source": [
        "error=pd.DataFrame(model.history.history)\n",
        "error"
      ],
      "execution_count": 0,
      "outputs": [
        {
          "output_type": "execute_result",
          "data": {
            "text/html": [
              "<div>\n",
              "<style scoped>\n",
              "    .dataframe tbody tr th:only-of-type {\n",
              "        vertical-align: middle;\n",
              "    }\n",
              "\n",
              "    .dataframe tbody tr th {\n",
              "        vertical-align: top;\n",
              "    }\n",
              "\n",
              "    .dataframe thead th {\n",
              "        text-align: right;\n",
              "    }\n",
              "</style>\n",
              "<table border=\"1\" class=\"dataframe\">\n",
              "  <thead>\n",
              "    <tr style=\"text-align: right;\">\n",
              "      <th></th>\n",
              "      <th>loss</th>\n",
              "      <th>val_loss</th>\n",
              "    </tr>\n",
              "  </thead>\n",
              "  <tbody>\n",
              "    <tr>\n",
              "      <th>0</th>\n",
              "      <td>5.620512e+10</td>\n",
              "      <td>5.696079e+10</td>\n",
              "    </tr>\n",
              "    <tr>\n",
              "      <th>1</th>\n",
              "      <td>5.620451e+10</td>\n",
              "      <td>5.693734e+10</td>\n",
              "    </tr>\n",
              "    <tr>\n",
              "      <th>2</th>\n",
              "      <td>5.612694e+10</td>\n",
              "      <td>5.678240e+10</td>\n",
              "    </tr>\n",
              "    <tr>\n",
              "      <th>3</th>\n",
              "      <td>5.583352e+10</td>\n",
              "      <td>5.628183e+10</td>\n",
              "    </tr>\n",
              "    <tr>\n",
              "      <th>4</th>\n",
              "      <td>5.505301e+10</td>\n",
              "      <td>5.512225e+10</td>\n",
              "    </tr>\n",
              "    <tr>\n",
              "      <th>...</th>\n",
              "      <td>...</td>\n",
              "      <td>...</td>\n",
              "    </tr>\n",
              "    <tr>\n",
              "      <th>395</th>\n",
              "      <td>3.007260e+09</td>\n",
              "      <td>3.357653e+09</td>\n",
              "    </tr>\n",
              "    <tr>\n",
              "      <th>396</th>\n",
              "      <td>3.005799e+09</td>\n",
              "      <td>3.366354e+09</td>\n",
              "    </tr>\n",
              "    <tr>\n",
              "      <th>397</th>\n",
              "      <td>3.007009e+09</td>\n",
              "      <td>3.379081e+09</td>\n",
              "    </tr>\n",
              "    <tr>\n",
              "      <th>398</th>\n",
              "      <td>3.005225e+09</td>\n",
              "      <td>3.347291e+09</td>\n",
              "    </tr>\n",
              "    <tr>\n",
              "      <th>399</th>\n",
              "      <td>3.005324e+09</td>\n",
              "      <td>3.314362e+09</td>\n",
              "    </tr>\n",
              "  </tbody>\n",
              "</table>\n",
              "<p>400 rows × 2 columns</p>\n",
              "</div>"
            ],
            "text/plain": [
              "             loss      val_loss\n",
              "0    5.620512e+10  5.696079e+10\n",
              "1    5.620451e+10  5.693734e+10\n",
              "2    5.612694e+10  5.678240e+10\n",
              "3    5.583352e+10  5.628183e+10\n",
              "4    5.505301e+10  5.512225e+10\n",
              "..            ...           ...\n",
              "395  3.007260e+09  3.357653e+09\n",
              "396  3.005799e+09  3.366354e+09\n",
              "397  3.007009e+09  3.379081e+09\n",
              "398  3.005225e+09  3.347291e+09\n",
              "399  3.005324e+09  3.314362e+09\n",
              "\n",
              "[400 rows x 2 columns]"
            ]
          },
          "metadata": {
            "tags": []
          },
          "execution_count": 76
        }
      ]
    },
    {
      "cell_type": "code",
      "metadata": {
        "id": "KtrLJC9bbecV",
        "colab_type": "code",
        "outputId": "3d4123d0-0c5f-4007-b6a8-fe8f20fbecdd",
        "colab": {
          "base_uri": "https://localhost:8080/",
          "height": 293
        }
      },
      "source": [
        "error.plot() #loss"
      ],
      "execution_count": 0,
      "outputs": [
        {
          "output_type": "execute_result",
          "data": {
            "text/plain": [
              "<matplotlib.axes._subplots.AxesSubplot at 0x7fb4f00b99b0>"
            ]
          },
          "metadata": {
            "tags": []
          },
          "execution_count": 122
        },
        {
          "output_type": "display_data",
          "data": {
            "image/png": "[encoded data removed]",
            "text/plain": [
              "<Figure size 432x288 with 1 Axes>"
            ]
          },
          "metadata": {
            "tags": []
          }
        }
      ]
    },
    {
      "cell_type": "code",
      "metadata": {
        "id": "Tpl7LNZseoj2",
        "colab_type": "code",
        "outputId": "f3bce6f8-fa44-4bb7-b2e0-e318335f2d91",
        "colab": {
          "base_uri": "https://localhost:8080/",
          "height": 34
        }
      },
      "source": [
        "from sklearn.metrics import mean_squared_error,mean_absolute_error,explained_variance_score\n",
        "predictions = model.predict(X_test)\n",
        "mean_absolute_error(y_test,predictions)\n",
        "#the error deviation is about $4200 from actual price"
      ],
      "execution_count": 0,
      "outputs": [
        {
          "output_type": "execute_result",
          "data": {
            "text/plain": [
              "42712.67020177504"
            ]
          },
          "metadata": {
            "tags": []
          },
          "execution_count": 81
        }
      ]
    },
    {
      "cell_type": "code",
      "metadata": {
        "id": "DAtXiTvqe5qh",
        "colab_type": "code",
        "colab": {}
      },
      "source": [
        "plt.scatter(y_test,predictions) "
      ],
      "execution_count": 0,
      "outputs": []
    },
    {
      "cell_type": "code",
      "metadata": {
        "id": "fHALfUlXfXQi",
        "colab_type": "code",
        "colab": {}
      },
      "source": [
        "single_house = df.drop('median_house_value',axis=1).iloc[0]\n",
        "single_house = scaler.transform(single_house.values.reshape(-1, 9)) #new input"
      ],
      "execution_count": 0,
      "outputs": []
    },
    {
      "cell_type": "code",
      "metadata": {
        "id": "1YsSYnNSghiN",
        "colab_type": "code",
        "outputId": "3217646b-bdc6-4de0-beee-d6997c33620a",
        "colab": {
          "base_uri": "https://localhost:8080/",
          "height": 34
        }
      },
      "source": [
        "model.predict(single_house) #prediction"
      ],
      "execution_count": 0,
      "outputs": [
        {
          "output_type": "execute_result",
          "data": {
            "text/plain": [
              "array([[46260.46]], dtype=float32)"
            ]
          },
          "metadata": {
            "tags": []
          },
          "execution_count": 103
        }
      ]
    }
  ]
}